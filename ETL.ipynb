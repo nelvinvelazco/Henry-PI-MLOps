{
 "cells": [
  {
   "cell_type": "code",
   "execution_count": 2,
   "metadata": {},
   "outputs": [],
   "source": [
    "from vaderSentiment.vaderSentiment import SentimentIntensityAnalyzer\n",
    "import gzip\n",
    "import json\n",
    "import ast\n",
    "import pandas as pd\n"
   ]
  },
  {
   "cell_type": "markdown",
   "metadata": {},
   "source": [
    "#### 1. Carga de Datos desde los achivos json"
   ]
  },
  {
   "cell_type": "code",
   "execution_count": 3,
   "metadata": {},
   "outputs": [],
   "source": [
    "data= []\n",
    "file = gzip.open('data/steam_games.json.gz', 'r')\n",
    "for linea in file:\n",
    "    data.append(json.loads(linea))\n",
    "df_steam_games= pd.DataFrame(data)\n"
   ]
  },
  {
   "cell_type": "code",
   "execution_count": 4,
   "metadata": {},
   "outputs": [],
   "source": [
    "data= []\n",
    "file = gzip.open('data/user_reviews.json.gz', 'r')\n",
    "for linea in file:\n",
    "    data.append(ast.literal_eval(linea.decode('utf-8')))\n",
    "df_user_reviews= pd.DataFrame(data)"
   ]
  },
  {
   "cell_type": "code",
   "execution_count": 3,
   "metadata": {},
   "outputs": [],
   "source": [
    "data= []\n",
    "file = gzip.open('data/users_items.json.gz', 'r')\n",
    "for linea in file:    \n",
    "    data.append(ast.literal_eval(linea.decode('utf-8')))\n",
    "df_user_items= pd.DataFrame(data)"
   ]
  },
  {
   "cell_type": "markdown",
   "metadata": {},
   "source": [
    "#### 2. Borrar datos nulos y columas inncesarias de los DataSets. Tranformar columnas Anidadas"
   ]
  },
  {
   "cell_type": "markdown",
   "metadata": {},
   "source": [
    "- **DataFrame: \"df_steam_games\"**"
   ]
  },
  {
   "cell_type": "code",
   "execution_count": 6,
   "metadata": {},
   "outputs": [],
   "source": [
    "df_steam_games = df_steam_games.explode('genres') # se crean filas con los vaores aninados de genres"
   ]
  },
  {
   "cell_type": "code",
   "execution_count": 7,
   "metadata": {},
   "outputs": [
    {
     "name": "stderr",
     "output_type": "stream",
     "text": [
      "C:\\Users\\Familia Velazco\\AppData\\Local\\Temp\\ipykernel_18264\\3836482271.py:3: FutureWarning: A value is trying to be set on a copy of a DataFrame or Series through chained assignment using an inplace method.\n",
      "The behavior will change in pandas 3.0. This inplace method will never work because the intermediate object on which we are setting values always behaves as a copy.\n",
      "\n",
      "For example, when doing 'df[col].method(value, inplace=True)', try using 'df.method({col: value}, inplace=True)' or df[col] = df[col].method(value) instead, to perform the operation inplace on the original object.\n",
      "\n",
      "\n",
      "  df_steam_games['release_year'].fillna(0, inplace = True)\n"
     ]
    }
   ],
   "source": [
    "df_steam_games['release_date']= pd.to_datetime(df_steam_games['release_date'], errors='coerce')\n",
    "df_steam_games['release_year']= df_steam_games['release_date'].dt.year\n",
    "df_steam_games['release_year'].fillna(0, inplace = True)\n",
    "df_steam_games['release_year']= df_steam_games['release_year'].astype(int)"
   ]
  },
  {
   "cell_type": "code",
   "execution_count": 8,
   "metadata": {},
   "outputs": [],
   "source": [
    "df_steam_games= df_steam_games.dropna(how='all') # Elimina todas las finas que continen todos los valores nulos\n",
    "df_steam_games= df_steam_games.dropna(subset=['app_name']) # Elimina filas con app_name nulo\n",
    "df_steam_games= df_steam_games.dropna(subset=['id']) # Elimina filas con id nulos\n",
    "df_steam_games= df_steam_games.drop(['title','release_date','url','reviews_url','tags', 'specs', 'early_access', 'publisher', 'developer', 'price'], axis=1) # Eliminar columnas innecesarias\n",
    "df_steam_games= df_steam_games.rename(columns={'app_name': 'game_name'}) # cambiar normbre de la columna\n",
    "df_steam_games= df_steam_games.rename(columns={'id': 'game_id'}) # cambiar normbre de la columna"
   ]
  },
  {
   "cell_type": "code",
   "execution_count": 9,
   "metadata": {},
   "outputs": [
    {
     "data": {
      "text/plain": [
       "genres          3282\n",
       "game_name          0\n",
       "game_id            0\n",
       "release_year       0\n",
       "dtype: int64"
      ]
     },
     "execution_count": 9,
     "metadata": {},
     "output_type": "execute_result"
    }
   ],
   "source": [
    "df_steam_games.isna().sum()"
   ]
  },
  {
   "cell_type": "code",
   "execution_count": 10,
   "metadata": {},
   "outputs": [
    {
     "data": {
      "text/html": [
       "<div>\n",
       "<style scoped>\n",
       "    .dataframe tbody tr th:only-of-type {\n",
       "        vertical-align: middle;\n",
       "    }\n",
       "\n",
       "    .dataframe tbody tr th {\n",
       "        vertical-align: top;\n",
       "    }\n",
       "\n",
       "    .dataframe thead th {\n",
       "        text-align: right;\n",
       "    }\n",
       "</style>\n",
       "<table border=\"1\" class=\"dataframe\">\n",
       "  <thead>\n",
       "    <tr style=\"text-align: right;\">\n",
       "      <th></th>\n",
       "      <th>genres</th>\n",
       "      <th>game_name</th>\n",
       "      <th>game_id</th>\n",
       "      <th>release_year</th>\n",
       "    </tr>\n",
       "  </thead>\n",
       "  <tbody>\n",
       "    <tr>\n",
       "      <th>88310</th>\n",
       "      <td>Action</td>\n",
       "      <td>Lost Summoner Kitty</td>\n",
       "      <td>761140</td>\n",
       "      <td>2018</td>\n",
       "    </tr>\n",
       "    <tr>\n",
       "      <th>88310</th>\n",
       "      <td>Casual</td>\n",
       "      <td>Lost Summoner Kitty</td>\n",
       "      <td>761140</td>\n",
       "      <td>2018</td>\n",
       "    </tr>\n",
       "    <tr>\n",
       "      <th>88310</th>\n",
       "      <td>Indie</td>\n",
       "      <td>Lost Summoner Kitty</td>\n",
       "      <td>761140</td>\n",
       "      <td>2018</td>\n",
       "    </tr>\n",
       "    <tr>\n",
       "      <th>88310</th>\n",
       "      <td>Simulation</td>\n",
       "      <td>Lost Summoner Kitty</td>\n",
       "      <td>761140</td>\n",
       "      <td>2018</td>\n",
       "    </tr>\n",
       "    <tr>\n",
       "      <th>88310</th>\n",
       "      <td>Strategy</td>\n",
       "      <td>Lost Summoner Kitty</td>\n",
       "      <td>761140</td>\n",
       "      <td>2018</td>\n",
       "    </tr>\n",
       "  </tbody>\n",
       "</table>\n",
       "</div>"
      ],
      "text/plain": [
       "           genres            game_name game_id  release_year\n",
       "88310      Action  Lost Summoner Kitty  761140          2018\n",
       "88310      Casual  Lost Summoner Kitty  761140          2018\n",
       "88310       Indie  Lost Summoner Kitty  761140          2018\n",
       "88310  Simulation  Lost Summoner Kitty  761140          2018\n",
       "88310    Strategy  Lost Summoner Kitty  761140          2018"
      ]
     },
     "execution_count": 10,
     "metadata": {},
     "output_type": "execute_result"
    }
   ],
   "source": [
    "df_steam_games.head(5)"
   ]
  },
  {
   "cell_type": "markdown",
   "metadata": {},
   "source": [
    "- **DataFrame: \"df_user_reviews\"**"
   ]
  },
  {
   "cell_type": "code",
   "execution_count": 11,
   "metadata": {},
   "outputs": [],
   "source": [
    "lista_datos = []\n",
    "id_usuarios = []\n",
    "# Iterar sobre los registros del DataFrame\n",
    "for index, fila in df_user_reviews.iterrows():    \n",
    "    for elemento in fila['reviews']:\n",
    "        id_usuarios.append(fila['user_id'])\n",
    "        elem_review = ast.literal_eval(str(elemento))\n",
    "        lista_datos.append(elem_review)"
   ]
  },
  {
   "cell_type": "code",
   "execution_count": 12,
   "metadata": {},
   "outputs": [],
   "source": [
    "df_user_reviews = pd.DataFrame(lista_datos)\n",
    "df_user_reviews['user_id']= id_usuarios"
   ]
  },
  {
   "cell_type": "code",
   "execution_count": 13,
   "metadata": {},
   "outputs": [],
   "source": [
    "#Funcion para calcular el analisis de sentimientos\n",
    "\n",
    "analizador = SentimentIntensityAnalyzer() \n",
    "def analisis_sentimiento(review):    \n",
    "    puntuacion = analizador.polarity_scores(review)\n",
    "    if puntuacion['compound'] > 0.5:\n",
    "        return 2\n",
    "    if (puntuacion['compound'] < 0.5) & (puntuacion['compound'] >= 0):\n",
    "        return 1\n",
    "    else:\n",
    "        return 0"
   ]
  },
  {
   "cell_type": "code",
   "execution_count": 14,
   "metadata": {},
   "outputs": [],
   "source": [
    "df_user_reviews['sentiment_analysis'] = df_user_reviews['review'].apply(analisis_sentimiento) # Se crea un columna con el analisis de sentimmientos calculados"
   ]
  },
  {
   "cell_type": "code",
   "execution_count": 15,
   "metadata": {},
   "outputs": [
    {
     "data": {
      "text/plain": [
       "sentiment_analysis\n",
       "2    31581\n",
       "1    19201\n",
       "0     8523\n",
       "Name: count, dtype: int64"
      ]
     },
     "execution_count": 15,
     "metadata": {},
     "output_type": "execute_result"
    }
   ],
   "source": [
    "df_user_reviews['sentiment_analysis'].value_counts() # Contar los valores de analisis de sentimientos"
   ]
  },
  {
   "cell_type": "code",
   "execution_count": 16,
   "metadata": {},
   "outputs": [
    {
     "name": "stderr",
     "output_type": "stream",
     "text": [
      "C:\\Users\\Familia Velazco\\AppData\\Local\\Temp\\ipykernel_18264\\756992562.py:3: FutureWarning: A value is trying to be set on a copy of a DataFrame or Series through chained assignment using an inplace method.\n",
      "The behavior will change in pandas 3.0. This inplace method will never work because the intermediate object on which we are setting values always behaves as a copy.\n",
      "\n",
      "For example, when doing 'df[col].method(value, inplace=True)', try using 'df.method({col: value}, inplace=True)' or df[col] = df[col].method(value) instead, to perform the operation inplace on the original object.\n",
      "\n",
      "\n",
      "  df_user_reviews['year'].fillna(0, inplace = True)\n"
     ]
    }
   ],
   "source": [
    "df_user_reviews['date'] = pd.to_datetime((df_user_reviews['posted']), format='Posted %B %d, %Y.', errors='coerce') # Crear una fila fecha con tranformacion de posted un fomrato fecha\n",
    "df_user_reviews['year'] = df_user_reviews['date'].dt.year\n",
    "df_user_reviews['year'].fillna(0, inplace = True)\n",
    "df_user_reviews['year'] = df_user_reviews['year'].astype(int)"
   ]
  },
  {
   "cell_type": "code",
   "execution_count": 17,
   "metadata": {},
   "outputs": [
    {
     "data": {
      "text/html": [
       "<div>\n",
       "<style scoped>\n",
       "    .dataframe tbody tr th:only-of-type {\n",
       "        vertical-align: middle;\n",
       "    }\n",
       "\n",
       "    .dataframe tbody tr th {\n",
       "        vertical-align: top;\n",
       "    }\n",
       "\n",
       "    .dataframe thead th {\n",
       "        text-align: right;\n",
       "    }\n",
       "</style>\n",
       "<table border=\"1\" class=\"dataframe\">\n",
       "  <thead>\n",
       "    <tr style=\"text-align: right;\">\n",
       "      <th></th>\n",
       "      <th>user_id</th>\n",
       "      <th>year</th>\n",
       "      <th>game_id</th>\n",
       "      <th>recommend</th>\n",
       "      <th>sentiment_analysis</th>\n",
       "    </tr>\n",
       "  </thead>\n",
       "  <tbody>\n",
       "    <tr>\n",
       "      <th>0</th>\n",
       "      <td>76561197970982479</td>\n",
       "      <td>2011</td>\n",
       "      <td>1250</td>\n",
       "      <td>True</td>\n",
       "      <td>2</td>\n",
       "    </tr>\n",
       "    <tr>\n",
       "      <th>1</th>\n",
       "      <td>76561197970982479</td>\n",
       "      <td>2011</td>\n",
       "      <td>22200</td>\n",
       "      <td>True</td>\n",
       "      <td>1</td>\n",
       "    </tr>\n",
       "    <tr>\n",
       "      <th>2</th>\n",
       "      <td>76561197970982479</td>\n",
       "      <td>2011</td>\n",
       "      <td>43110</td>\n",
       "      <td>True</td>\n",
       "      <td>2</td>\n",
       "    </tr>\n",
       "    <tr>\n",
       "      <th>3</th>\n",
       "      <td>js41637</td>\n",
       "      <td>2014</td>\n",
       "      <td>251610</td>\n",
       "      <td>True</td>\n",
       "      <td>2</td>\n",
       "    </tr>\n",
       "    <tr>\n",
       "      <th>4</th>\n",
       "      <td>js41637</td>\n",
       "      <td>2013</td>\n",
       "      <td>227300</td>\n",
       "      <td>True</td>\n",
       "      <td>2</td>\n",
       "    </tr>\n",
       "  </tbody>\n",
       "</table>\n",
       "</div>"
      ],
      "text/plain": [
       "             user_id  year game_id  recommend  sentiment_analysis\n",
       "0  76561197970982479  2011    1250       True                   2\n",
       "1  76561197970982479  2011   22200       True                   1\n",
       "2  76561197970982479  2011   43110       True                   2\n",
       "3            js41637  2014  251610       True                   2\n",
       "4            js41637  2013  227300       True                   2"
      ]
     },
     "execution_count": 17,
     "metadata": {},
     "output_type": "execute_result"
    }
   ],
   "source": [
    "df_user_reviews = df_user_reviews.rename(columns={'item_id': 'game_id'}) # cambiar normbre de la columna\n",
    "df_user_reviews = df_user_reviews[['user_id','year', 'game_id', 'recommend', 'sentiment_analysis']] # Se seleccionan solo las culumnas necesarias\n",
    "df_user_reviews.head()"
   ]
  },
  {
   "cell_type": "code",
   "execution_count": 18,
   "metadata": {},
   "outputs": [
    {
     "name": "stdout",
     "output_type": "stream",
     "text": [
      "<class 'pandas.core.frame.DataFrame'>\n",
      "RangeIndex: 59305 entries, 0 to 59304\n",
      "Data columns (total 5 columns):\n",
      " #   Column              Non-Null Count  Dtype \n",
      "---  ------              --------------  ----- \n",
      " 0   user_id             59305 non-null  object\n",
      " 1   year                59305 non-null  int32 \n",
      " 2   game_id             59305 non-null  object\n",
      " 3   recommend           59305 non-null  bool  \n",
      " 4   sentiment_analysis  59305 non-null  int64 \n",
      "dtypes: bool(1), int32(1), int64(1), object(2)\n",
      "memory usage: 1.6+ MB\n"
     ]
    }
   ],
   "source": [
    "df_user_reviews.info()"
   ]
  },
  {
   "cell_type": "markdown",
   "metadata": {},
   "source": [
    "- **DataFrame: \"df_user_items\"**"
   ]
  },
  {
   "cell_type": "code",
   "execution_count": 4,
   "metadata": {},
   "outputs": [],
   "source": [
    "lista_datos = []\n",
    "id_usuarios = []\n",
    "# Iterar sobre los registros del DataFrame\n",
    "for index, fila in df_user_items.iterrows(): \n",
    "    for elemento in fila['items']:\n",
    "        id_usuarios.append(fila['user_id'])\n",
    "        item = ast.literal_eval(str(elemento))\n",
    "        lista_datos.append(item)"
   ]
  },
  {
   "cell_type": "code",
   "execution_count": 5,
   "metadata": {},
   "outputs": [],
   "source": [
    "df_user_items = pd.DataFrame(lista_datos)   # se sobre escribe el dataFrame nuevmamentes con la lista de datos anidadas\n",
    "df_user_items['user_id']= id_usuarios       # Se agrega la columna user_id"
   ]
  },
  {
   "cell_type": "code",
   "execution_count": 6,
   "metadata": {},
   "outputs": [],
   "source": [
    "df_user_items= df_user_items.rename(columns={'item_name': 'game_name'}) # cambiar normbre de la columna\n",
    "df_user_items= df_user_items.rename(columns={'item_id': 'game_id'}) # cambiar normbre de la columna\n",
    "df_user_items['game_id']= df_user_items['game_id'].astype(int)\n",
    "df_user_items = df_user_items[['user_id','game_id', 'game_name', 'playtime_forever']] ## Se seleccionan solo las culumnas necesarias"
   ]
  },
  {
   "cell_type": "code",
   "execution_count": 7,
   "metadata": {},
   "outputs": [],
   "source": [
    "df_user_items.drop_duplicates(inplace=True)     # Elimina filas duplicadas"
   ]
  },
  {
   "cell_type": "code",
   "execution_count": 8,
   "metadata": {},
   "outputs": [
    {
     "data": {
      "text/html": [
       "<div>\n",
       "<style scoped>\n",
       "    .dataframe tbody tr th:only-of-type {\n",
       "        vertical-align: middle;\n",
       "    }\n",
       "\n",
       "    .dataframe tbody tr th {\n",
       "        vertical-align: top;\n",
       "    }\n",
       "\n",
       "    .dataframe thead th {\n",
       "        text-align: right;\n",
       "    }\n",
       "</style>\n",
       "<table border=\"1\" class=\"dataframe\">\n",
       "  <thead>\n",
       "    <tr style=\"text-align: right;\">\n",
       "      <th></th>\n",
       "      <th>user_id</th>\n",
       "      <th>game_id</th>\n",
       "      <th>game_name</th>\n",
       "      <th>playtime_forever</th>\n",
       "    </tr>\n",
       "  </thead>\n",
       "  <tbody>\n",
       "    <tr>\n",
       "      <th>0</th>\n",
       "      <td>76561197970982479</td>\n",
       "      <td>10</td>\n",
       "      <td>Counter-Strike</td>\n",
       "      <td>6</td>\n",
       "    </tr>\n",
       "    <tr>\n",
       "      <th>1</th>\n",
       "      <td>76561197970982479</td>\n",
       "      <td>20</td>\n",
       "      <td>Team Fortress Classic</td>\n",
       "      <td>0</td>\n",
       "    </tr>\n",
       "    <tr>\n",
       "      <th>2</th>\n",
       "      <td>76561197970982479</td>\n",
       "      <td>30</td>\n",
       "      <td>Day of Defeat</td>\n",
       "      <td>7</td>\n",
       "    </tr>\n",
       "    <tr>\n",
       "      <th>3</th>\n",
       "      <td>76561197970982479</td>\n",
       "      <td>40</td>\n",
       "      <td>Deathmatch Classic</td>\n",
       "      <td>0</td>\n",
       "    </tr>\n",
       "    <tr>\n",
       "      <th>4</th>\n",
       "      <td>76561197970982479</td>\n",
       "      <td>50</td>\n",
       "      <td>Half-Life: Opposing Force</td>\n",
       "      <td>0</td>\n",
       "    </tr>\n",
       "  </tbody>\n",
       "</table>\n",
       "</div>"
      ],
      "text/plain": [
       "             user_id  game_id                  game_name  playtime_forever\n",
       "0  76561197970982479       10             Counter-Strike                 6\n",
       "1  76561197970982479       20      Team Fortress Classic                 0\n",
       "2  76561197970982479       30              Day of Defeat                 7\n",
       "3  76561197970982479       40         Deathmatch Classic                 0\n",
       "4  76561197970982479       50  Half-Life: Opposing Force                 0"
      ]
     },
     "execution_count": 8,
     "metadata": {},
     "output_type": "execute_result"
    }
   ],
   "source": [
    "df_user_items.head()"
   ]
  },
  {
   "cell_type": "code",
   "execution_count": 9,
   "metadata": {},
   "outputs": [
    {
     "name": "stdout",
     "output_type": "stream",
     "text": [
      "<class 'pandas.core.frame.DataFrame'>\n",
      "Index: 5094092 entries, 0 to 5153208\n",
      "Data columns (total 4 columns):\n",
      " #   Column            Dtype \n",
      "---  ------            ----- \n",
      " 0   user_id           object\n",
      " 1   game_id           int32 \n",
      " 2   game_name         object\n",
      " 3   playtime_forever  int64 \n",
      "dtypes: int32(1), int64(1), object(2)\n",
      "memory usage: 174.9+ MB\n"
     ]
    }
   ],
   "source": [
    "df_user_items.info()"
   ]
  },
  {
   "cell_type": "markdown",
   "metadata": {},
   "source": [
    "#### 3. Exportar los Dataframes transformados a archivos CSV y parquet"
   ]
  },
  {
   "cell_type": "code",
   "execution_count": 25,
   "metadata": {},
   "outputs": [],
   "source": [
    "df_steam_games.to_csv('DataSet_tranformados/games.csv', index=False)    #Exportar df_steam_games a un archivo games.cvs"
   ]
  },
  {
   "cell_type": "code",
   "execution_count": 26,
   "metadata": {},
   "outputs": [],
   "source": [
    "df_user_reviews.to_csv('DataSet_tranformados/reviews.csv', index=False) #Exportar df_user_reviews a un archivo reviews.cvs"
   ]
  },
  {
   "cell_type": "code",
   "execution_count": 10,
   "metadata": {},
   "outputs": [],
   "source": [
    "df_user_items.to_parquet('DataSet_tranformados/items.parquet', index=False) #Exportar df_user_reviews a un archivo items.parquet"
   ]
  },
  {
   "cell_type": "code",
   "execution_count": 11,
   "metadata": {},
   "outputs": [],
   "source": [
    "#df_user_items.iloc[1,-1]\n",
    "#user_reviews_temp = user_reviews.explode('reviews')\n",
    "#user_reviews_temp.head(10)"
   ]
  },
  {
   "cell_type": "code",
   "execution_count": 65,
   "metadata": {},
   "outputs": [],
   "source": [
    "#frase= (df_user_reviews.iloc[132,-1])\n",
    "#print(frase)\n",
    "#print(analisis_sentimiento(frase))\n",
    "#print(analisis_sentimiento(\"Great atmosphere. The gunplay can be a bit chunky at times but at the end of the day this game is definitely worth it and I hope they do a sequel...so buy the game so I get a sequel!\"))"
   ]
  },
  {
   "cell_type": "code",
   "execution_count": null,
   "metadata": {},
   "outputs": [],
   "source": []
  }
 ],
 "metadata": {
  "kernelspec": {
   "display_name": "Python 3",
   "language": "python",
   "name": "python3"
  },
  "language_info": {
   "codemirror_mode": {
    "name": "ipython",
    "version": 3
   },
   "file_extension": ".py",
   "mimetype": "text/x-python",
   "name": "python",
   "nbconvert_exporter": "python",
   "pygments_lexer": "ipython3",
   "version": "3.11.1"
  }
 },
 "nbformat": 4,
 "nbformat_minor": 2
}
