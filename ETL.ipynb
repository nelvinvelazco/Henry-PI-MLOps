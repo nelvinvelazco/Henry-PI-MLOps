{
 "cells": [
  {
   "cell_type": "code",
   "execution_count": 2,
   "metadata": {},
   "outputs": [],
   "source": [
    "from vaderSentiment.vaderSentiment import SentimentIntensityAnalyzer    # Libreria para hacer el analisis de sentimiento\n",
    "import gzip     # Libreria para cargar archivos comprimidos\n",
    "import json     # Libreria para manejar archivos json\n",
    "import ast      # Libreria para manejar datos con sintaxis abstractas\n",
    "import pandas as pd     #Libreria para Manerar dataframes\n"
   ]
  },
  {
   "cell_type": "markdown",
   "metadata": {},
   "source": [
    "#### 1. Carga de Datos desde los achivos json"
   ]
  },
  {
   "cell_type": "code",
   "execution_count": 52,
   "metadata": {},
   "outputs": [],
   "source": [
    "data= []    # Inicializa la variable tipo lista\n",
    "file = gzip.open('data/steam_games.json.gz', 'r')   # Abre el archivo especificado en la ruta y lo carga en file\n",
    "for linea in file:      # Recorre el archivo linea por linea\n",
    "    data.append(json.loads(linea))      # Transforma cada linea a formato json y lo agraga a la lista\n",
    "df_steam_games= pd.DataFrame(data)      # Se crea un DataFrame con el contenido de la lista data\n"
   ]
  },
  {
   "cell_type": "code",
   "execution_count": 53,
   "metadata": {},
   "outputs": [],
   "source": [
    "data= []    # Inicializa la variable tipo lista\n",
    "file = gzip.open('data/user_reviews.json.gz', 'r')      # Abre el archivo especificado en la ruta y lo carga en file\n",
    "for linea in file:      # Recorre el archivo linea por linea\n",
    "    data.append(ast.literal_eval(linea.decode('utf-8')))    # Transforma cada linea a formato json y lo agraga a la lista\n",
    "df_user_reviews= pd.DataFrame(data)     # Se crea un DataFrame con el contenido de la lista data"
   ]
  },
  {
   "cell_type": "code",
   "execution_count": 3,
   "metadata": {},
   "outputs": [],
   "source": [
    "data= []    # Inicializa la variable tipo lista\n",
    "file = gzip.open('data/users_items.json.gz', 'r')       # Abre el archivo especificado en la ruta y lo carga en file\n",
    "for linea in file:    # Recorre el archivo linea por linea\n",
    "    data.append(ast.literal_eval(linea.decode('utf-8')))    # Transforma cada linea a formato json y lo agraga a la lista\n",
    "df_user_items= pd.DataFrame(data)       # Se crea un DataFrame con el contenido de la lista data"
   ]
  },
  {
   "cell_type": "markdown",
   "metadata": {},
   "source": [
    "#### 2. Borrar datos nulos y columas inncesarias de los DataSets. Tranformar columnas Anidadas"
   ]
  },
  {
   "cell_type": "markdown",
   "metadata": {},
   "source": [
    "- **DataFrame: \"df_steam_games\"**"
   ]
  },
  {
   "cell_type": "code",
   "execution_count": 54,
   "metadata": {},
   "outputs": [],
   "source": [
    "df_steam_games = df_steam_games.explode('genres') # se crean filas con los valores aninados de genres"
   ]
  },
  {
   "cell_type": "code",
   "execution_count": 55,
   "metadata": {},
   "outputs": [],
   "source": [
    "# Tranforma la columna de fechas en string en un valor tipo datetime\n",
    "df_steam_games['release_date']= pd.to_datetime(df_steam_games['release_date'], errors='coerce')\n",
    "# Crea una columna con el año en base la fecha de lanzamiento\n",
    "df_steam_games['release_year']= df_steam_games['release_date'].dt.year\n",
    "# Se importan los valores nulos del año de lanzamiendo por un 0\n",
    "df_steam_games.fillna({'release_year': 0}, inplace = True)\n",
    "# Se cambia el el año a tipo entero\n",
    "df_steam_games['release_year']= df_steam_games['release_year'].astype(int)"
   ]
  },
  {
   "cell_type": "code",
   "execution_count": 56,
   "metadata": {},
   "outputs": [],
   "source": [
    "df_steam_games= df_steam_games.dropna(how='all') # Elimina todas las finas que continen todos los valores nulos\n",
    "df_steam_games= df_steam_games.dropna(subset=['app_name']) # Elimina filas con app_name nulo\n",
    "df_steam_games= df_steam_games.dropna(subset=['id']) # Elimina filas con id nulos\n",
    "df_steam_games= df_steam_games.drop(['title','release_date','url','reviews_url','tags', 'specs', 'early_access', 'publisher', 'developer', 'price'], axis=1) # Eliminar columnas innecesarias\n",
    "df_steam_games= df_steam_games.rename(columns={'app_name': 'game_name'}) # cambiar normbre de la columna\n",
    "df_steam_games= df_steam_games.rename(columns={'id': 'game_id'}) # cambiar normbre de la columna"
   ]
  },
  {
   "cell_type": "code",
   "execution_count": 57,
   "metadata": {},
   "outputs": [
    {
     "data": {
      "text/plain": [
       "genres          3282\n",
       "game_name          0\n",
       "game_id            0\n",
       "release_year       0\n",
       "dtype: int64"
      ]
     },
     "execution_count": 57,
     "metadata": {},
     "output_type": "execute_result"
    }
   ],
   "source": [
    "df_steam_games.isna().sum()"
   ]
  },
  {
   "cell_type": "code",
   "execution_count": 58,
   "metadata": {},
   "outputs": [
    {
     "data": {
      "text/html": [
       "<div>\n",
       "<style scoped>\n",
       "    .dataframe tbody tr th:only-of-type {\n",
       "        vertical-align: middle;\n",
       "    }\n",
       "\n",
       "    .dataframe tbody tr th {\n",
       "        vertical-align: top;\n",
       "    }\n",
       "\n",
       "    .dataframe thead th {\n",
       "        text-align: right;\n",
       "    }\n",
       "</style>\n",
       "<table border=\"1\" class=\"dataframe\">\n",
       "  <thead>\n",
       "    <tr style=\"text-align: right;\">\n",
       "      <th></th>\n",
       "      <th>genres</th>\n",
       "      <th>game_name</th>\n",
       "      <th>game_id</th>\n",
       "      <th>release_year</th>\n",
       "    </tr>\n",
       "  </thead>\n",
       "  <tbody>\n",
       "    <tr>\n",
       "      <th>88310</th>\n",
       "      <td>Action</td>\n",
       "      <td>Lost Summoner Kitty</td>\n",
       "      <td>761140</td>\n",
       "      <td>2018</td>\n",
       "    </tr>\n",
       "    <tr>\n",
       "      <th>88310</th>\n",
       "      <td>Casual</td>\n",
       "      <td>Lost Summoner Kitty</td>\n",
       "      <td>761140</td>\n",
       "      <td>2018</td>\n",
       "    </tr>\n",
       "    <tr>\n",
       "      <th>88310</th>\n",
       "      <td>Indie</td>\n",
       "      <td>Lost Summoner Kitty</td>\n",
       "      <td>761140</td>\n",
       "      <td>2018</td>\n",
       "    </tr>\n",
       "    <tr>\n",
       "      <th>88310</th>\n",
       "      <td>Simulation</td>\n",
       "      <td>Lost Summoner Kitty</td>\n",
       "      <td>761140</td>\n",
       "      <td>2018</td>\n",
       "    </tr>\n",
       "    <tr>\n",
       "      <th>88310</th>\n",
       "      <td>Strategy</td>\n",
       "      <td>Lost Summoner Kitty</td>\n",
       "      <td>761140</td>\n",
       "      <td>2018</td>\n",
       "    </tr>\n",
       "  </tbody>\n",
       "</table>\n",
       "</div>"
      ],
      "text/plain": [
       "           genres            game_name game_id  release_year\n",
       "88310      Action  Lost Summoner Kitty  761140          2018\n",
       "88310      Casual  Lost Summoner Kitty  761140          2018\n",
       "88310       Indie  Lost Summoner Kitty  761140          2018\n",
       "88310  Simulation  Lost Summoner Kitty  761140          2018\n",
       "88310    Strategy  Lost Summoner Kitty  761140          2018"
      ]
     },
     "execution_count": 58,
     "metadata": {},
     "output_type": "execute_result"
    }
   ],
   "source": [
    "df_steam_games.head(5)"
   ]
  },
  {
   "cell_type": "markdown",
   "metadata": {},
   "source": [
    "- **DataFrame: \"df_user_reviews\"**"
   ]
  },
  {
   "cell_type": "code",
   "execution_count": 59,
   "metadata": {},
   "outputs": [],
   "source": [
    "lista_datos = []    # Se inicializa una lista para guadar los elementos de la columna reviews\n",
    "id_usuarios = []    # Se inicializa una lista de se guadran los id de usuario para cada fila\n",
    "# Iterar sobre los registros del DataFrame\n",
    "for index, fila in df_user_reviews.iterrows():\n",
    "    for elemento in fila['reviews']:                # Se itera sobre las elementos de la columna reviews\n",
    "        id_usuarios.append(fila['user_id'])         # Se agreda el id de usuario a la lista\n",
    "        elem_review = ast.literal_eval(str(elemento))   # Se transforma  a diccionario de cada elemento de la cplumna reviews\n",
    "        lista_datos.append(elem_review)     # Se agrega a la lista el elemento transformado"
   ]
  },
  {
   "cell_type": "code",
   "execution_count": 60,
   "metadata": {},
   "outputs": [],
   "source": [
    "df_user_reviews = pd.DataFrame(lista_datos)\n",
    "df_user_reviews['user_id']= id_usuarios"
   ]
  },
  {
   "cell_type": "code",
   "execution_count": 61,
   "metadata": {},
   "outputs": [],
   "source": [
    "#Funcion para calcular el analisis de sentimientos\n",
    "\n",
    "analizador = SentimentIntensityAnalyzer()   # Se instancia un objeto con la clase \n",
    "def analisis_sentimiento(review):           \n",
    "    puntuacion = analizador.polarity_scores(review)     # Calcula la puntuacion del review\n",
    "    if puntuacion['compound'] > 0.5:    # Si se cumple la condicion se returna 2 (positivo)\n",
    "        return 2\n",
    "    if (puntuacion['compound'] < 0.5) & (puntuacion['compound'] >= 0):  # Si se cumple la condicion se returna 1 (Neutro)\n",
    "        return 1\n",
    "    else:\n",
    "        return 0        # Si no se cumpla las condiciones anteriores se retorna 0 (negatrivo)"
   ]
  },
  {
   "cell_type": "code",
   "execution_count": 62,
   "metadata": {},
   "outputs": [],
   "source": [
    "df_user_reviews['sentiment_analysis'] = df_user_reviews['review'].apply(analisis_sentimiento) # Se crea un columna con el analisis de sentimmientos calculados"
   ]
  },
  {
   "cell_type": "code",
   "execution_count": 63,
   "metadata": {},
   "outputs": [
    {
     "data": {
      "text/plain": [
       "sentiment_analysis\n",
       "2    31581\n",
       "1    19201\n",
       "0     8523\n",
       "Name: count, dtype: int64"
      ]
     },
     "execution_count": 63,
     "metadata": {},
     "output_type": "execute_result"
    }
   ],
   "source": [
    "df_user_reviews['sentiment_analysis'].value_counts() # Contar los valores de analisis de sentimientos"
   ]
  },
  {
   "cell_type": "code",
   "execution_count": 64,
   "metadata": {},
   "outputs": [],
   "source": [
    "df_user_reviews['date'] = pd.to_datetime((df_user_reviews['posted']), format='Posted %B %d, %Y.', errors='coerce') # Crear una fila fecha con tranformacion de posted un fomrato fecha\n",
    "df_user_reviews['year'] = df_user_reviews['date'].dt.year   # Se crea una columna con el año de la fecha\n",
    "df_user_reviews.fillna({'year': 0}, inplace = True)     # Se imputan los valores nulos de año a 0\n",
    "df_user_reviews['year'] = df_user_reviews['year'].astype(int)       # Se cambia la columna año a tipo entero"
   ]
  },
  {
   "cell_type": "code",
   "execution_count": 65,
   "metadata": {},
   "outputs": [
    {
     "data": {
      "text/html": [
       "<div>\n",
       "<style scoped>\n",
       "    .dataframe tbody tr th:only-of-type {\n",
       "        vertical-align: middle;\n",
       "    }\n",
       "\n",
       "    .dataframe tbody tr th {\n",
       "        vertical-align: top;\n",
       "    }\n",
       "\n",
       "    .dataframe thead th {\n",
       "        text-align: right;\n",
       "    }\n",
       "</style>\n",
       "<table border=\"1\" class=\"dataframe\">\n",
       "  <thead>\n",
       "    <tr style=\"text-align: right;\">\n",
       "      <th></th>\n",
       "      <th>user_id</th>\n",
       "      <th>year</th>\n",
       "      <th>game_id</th>\n",
       "      <th>recommend</th>\n",
       "      <th>sentiment_analysis</th>\n",
       "    </tr>\n",
       "  </thead>\n",
       "  <tbody>\n",
       "    <tr>\n",
       "      <th>0</th>\n",
       "      <td>76561197970982479</td>\n",
       "      <td>2011</td>\n",
       "      <td>1250</td>\n",
       "      <td>True</td>\n",
       "      <td>2</td>\n",
       "    </tr>\n",
       "    <tr>\n",
       "      <th>1</th>\n",
       "      <td>76561197970982479</td>\n",
       "      <td>2011</td>\n",
       "      <td>22200</td>\n",
       "      <td>True</td>\n",
       "      <td>1</td>\n",
       "    </tr>\n",
       "    <tr>\n",
       "      <th>2</th>\n",
       "      <td>76561197970982479</td>\n",
       "      <td>2011</td>\n",
       "      <td>43110</td>\n",
       "      <td>True</td>\n",
       "      <td>2</td>\n",
       "    </tr>\n",
       "    <tr>\n",
       "      <th>3</th>\n",
       "      <td>js41637</td>\n",
       "      <td>2014</td>\n",
       "      <td>251610</td>\n",
       "      <td>True</td>\n",
       "      <td>2</td>\n",
       "    </tr>\n",
       "    <tr>\n",
       "      <th>4</th>\n",
       "      <td>js41637</td>\n",
       "      <td>2013</td>\n",
       "      <td>227300</td>\n",
       "      <td>True</td>\n",
       "      <td>2</td>\n",
       "    </tr>\n",
       "  </tbody>\n",
       "</table>\n",
       "</div>"
      ],
      "text/plain": [
       "             user_id  year game_id  recommend  sentiment_analysis\n",
       "0  76561197970982479  2011    1250       True                   2\n",
       "1  76561197970982479  2011   22200       True                   1\n",
       "2  76561197970982479  2011   43110       True                   2\n",
       "3            js41637  2014  251610       True                   2\n",
       "4            js41637  2013  227300       True                   2"
      ]
     },
     "execution_count": 65,
     "metadata": {},
     "output_type": "execute_result"
    }
   ],
   "source": [
    "df_user_reviews = df_user_reviews.rename(columns={'item_id': 'game_id'}) # cambiar normbre de la columna\n",
    "df_user_reviews = df_user_reviews[['user_id','year', 'game_id', 'recommend', 'sentiment_analysis']] # Se seleccionan solo las culumnas necesarias\n",
    "df_user_reviews.head()"
   ]
  },
  {
   "cell_type": "code",
   "execution_count": 66,
   "metadata": {},
   "outputs": [
    {
     "name": "stdout",
     "output_type": "stream",
     "text": [
      "<class 'pandas.core.frame.DataFrame'>\n",
      "RangeIndex: 59305 entries, 0 to 59304\n",
      "Data columns (total 5 columns):\n",
      " #   Column              Non-Null Count  Dtype \n",
      "---  ------              --------------  ----- \n",
      " 0   user_id             59305 non-null  object\n",
      " 1   year                59305 non-null  int32 \n",
      " 2   game_id             59305 non-null  object\n",
      " 3   recommend           59305 non-null  bool  \n",
      " 4   sentiment_analysis  59305 non-null  int64 \n",
      "dtypes: bool(1), int32(1), int64(1), object(2)\n",
      "memory usage: 1.6+ MB\n"
     ]
    }
   ],
   "source": [
    "df_user_reviews.info()"
   ]
  },
  {
   "cell_type": "markdown",
   "metadata": {},
   "source": [
    "- **DataFrame: \"df_user_items\"**"
   ]
  },
  {
   "cell_type": "code",
   "execution_count": 4,
   "metadata": {},
   "outputs": [],
   "source": [
    "lista_datos = []    # Se inicializa una lista para guadar los elementos de la columna reviews\n",
    "id_usuarios = []    # Se inicializa una lista de se guadran los id de usuario para cada fila\n",
    "# Iterar sobre los registros del DataFrame\n",
    "for index, fila in df_user_items.iterrows(): \n",
    "    for elemento in fila['items']:                  # Se itera sobre las elementos de la columna reviews\n",
    "        id_usuarios.append(fila['user_id'])         # Se agreda el id de usuario a la lista\n",
    "        item = ast.literal_eval(str(elemento))      # Se transforma  a diccionario de cada elemento de la cplumna reviews\n",
    "        lista_datos.append(item)        # Se agrega a la lista el elemento transformado"
   ]
  },
  {
   "cell_type": "code",
   "execution_count": 5,
   "metadata": {},
   "outputs": [],
   "source": [
    "df_user_items = pd.DataFrame(lista_datos)   # se sobre escribe el dataFrame nuevmamentes con la lista de datos anidadas\n",
    "df_user_items['user_id']= id_usuarios       # Se agrega la columna user_id"
   ]
  },
  {
   "cell_type": "code",
   "execution_count": 6,
   "metadata": {},
   "outputs": [],
   "source": [
    "df_user_items= df_user_items.rename(columns={'item_name': 'game_name'}) # cambiar normbre de la columna\n",
    "df_user_items= df_user_items.rename(columns={'item_id': 'game_id'}) # cambiar normbre de la columna\n",
    "df_user_items['game_id']= df_user_items['game_id'].astype(int)      # Se cambia el tipo de la columna id a entero\n",
    "df_user_items = df_user_items[['user_id','game_id', 'game_name', 'playtime_forever']] ## Se seleccionan solo las culumnas necesarias"
   ]
  },
  {
   "cell_type": "code",
   "execution_count": 7,
   "metadata": {},
   "outputs": [],
   "source": [
    "df_user_items.drop_duplicates(inplace=True)     # Elimina filas duplicadas"
   ]
  },
  {
   "cell_type": "code",
   "execution_count": 8,
   "metadata": {},
   "outputs": [
    {
     "data": {
      "text/html": [
       "<div>\n",
       "<style scoped>\n",
       "    .dataframe tbody tr th:only-of-type {\n",
       "        vertical-align: middle;\n",
       "    }\n",
       "\n",
       "    .dataframe tbody tr th {\n",
       "        vertical-align: top;\n",
       "    }\n",
       "\n",
       "    .dataframe thead th {\n",
       "        text-align: right;\n",
       "    }\n",
       "</style>\n",
       "<table border=\"1\" class=\"dataframe\">\n",
       "  <thead>\n",
       "    <tr style=\"text-align: right;\">\n",
       "      <th></th>\n",
       "      <th>user_id</th>\n",
       "      <th>game_id</th>\n",
       "      <th>game_name</th>\n",
       "      <th>playtime_forever</th>\n",
       "    </tr>\n",
       "  </thead>\n",
       "  <tbody>\n",
       "    <tr>\n",
       "      <th>0</th>\n",
       "      <td>76561197970982479</td>\n",
       "      <td>10</td>\n",
       "      <td>Counter-Strike</td>\n",
       "      <td>6</td>\n",
       "    </tr>\n",
       "    <tr>\n",
       "      <th>1</th>\n",
       "      <td>76561197970982479</td>\n",
       "      <td>20</td>\n",
       "      <td>Team Fortress Classic</td>\n",
       "      <td>0</td>\n",
       "    </tr>\n",
       "    <tr>\n",
       "      <th>2</th>\n",
       "      <td>76561197970982479</td>\n",
       "      <td>30</td>\n",
       "      <td>Day of Defeat</td>\n",
       "      <td>7</td>\n",
       "    </tr>\n",
       "    <tr>\n",
       "      <th>3</th>\n",
       "      <td>76561197970982479</td>\n",
       "      <td>40</td>\n",
       "      <td>Deathmatch Classic</td>\n",
       "      <td>0</td>\n",
       "    </tr>\n",
       "    <tr>\n",
       "      <th>4</th>\n",
       "      <td>76561197970982479</td>\n",
       "      <td>50</td>\n",
       "      <td>Half-Life: Opposing Force</td>\n",
       "      <td>0</td>\n",
       "    </tr>\n",
       "  </tbody>\n",
       "</table>\n",
       "</div>"
      ],
      "text/plain": [
       "             user_id  game_id                  game_name  playtime_forever\n",
       "0  76561197970982479       10             Counter-Strike                 6\n",
       "1  76561197970982479       20      Team Fortress Classic                 0\n",
       "2  76561197970982479       30              Day of Defeat                 7\n",
       "3  76561197970982479       40         Deathmatch Classic                 0\n",
       "4  76561197970982479       50  Half-Life: Opposing Force                 0"
      ]
     },
     "execution_count": 8,
     "metadata": {},
     "output_type": "execute_result"
    }
   ],
   "source": [
    "df_user_items.head()"
   ]
  },
  {
   "cell_type": "code",
   "execution_count": 9,
   "metadata": {},
   "outputs": [
    {
     "name": "stdout",
     "output_type": "stream",
     "text": [
      "<class 'pandas.core.frame.DataFrame'>\n",
      "Index: 5094092 entries, 0 to 5153208\n",
      "Data columns (total 4 columns):\n",
      " #   Column            Dtype \n",
      "---  ------            ----- \n",
      " 0   user_id           object\n",
      " 1   game_id           int32 \n",
      " 2   game_name         object\n",
      " 3   playtime_forever  int64 \n",
      "dtypes: int32(1), int64(1), object(2)\n",
      "memory usage: 174.9+ MB\n"
     ]
    }
   ],
   "source": [
    "df_user_items.info()"
   ]
  },
  {
   "cell_type": "markdown",
   "metadata": {},
   "source": [
    "#### 3. Exportar los Dataframes transformados a archivos CSV y parquet"
   ]
  },
  {
   "cell_type": "code",
   "execution_count": 67,
   "metadata": {},
   "outputs": [],
   "source": [
    "df_steam_games.to_csv('DataSet_tranformados/games.csv', index=False)    #Exportar df_steam_games a un archivo games.cvs"
   ]
  },
  {
   "cell_type": "code",
   "execution_count": 68,
   "metadata": {},
   "outputs": [],
   "source": [
    "df_user_reviews.to_csv('DataSet_tranformados/reviews.csv', index=False) #Exportar df_user_reviews a un archivo reviews.cvs"
   ]
  },
  {
   "cell_type": "code",
   "execution_count": 10,
   "metadata": {},
   "outputs": [],
   "source": [
    "df_user_items.to_parquet('DataSet_tranformados/items.parquet', index=False) #Exportar df_user_reviews a un archivo items.parquet"
   ]
  },
  {
   "cell_type": "code",
   "execution_count": 11,
   "metadata": {},
   "outputs": [],
   "source": [
    "#df_user_items.iloc[1,-1]\n",
    "#user_reviews_temp = user_reviews.explode('reviews')\n",
    "#user_reviews_temp.head(10)"
   ]
  }
 ],
 "metadata": {
  "kernelspec": {
   "display_name": "Python 3",
   "language": "python",
   "name": "python3"
  },
  "language_info": {
   "codemirror_mode": {
    "name": "ipython",
    "version": 3
   },
   "file_extension": ".py",
   "mimetype": "text/x-python",
   "name": "python",
   "nbconvert_exporter": "python",
   "pygments_lexer": "ipython3",
   "version": "3.11.6"
  }
 },
 "nbformat": 4,
 "nbformat_minor": 2
}
