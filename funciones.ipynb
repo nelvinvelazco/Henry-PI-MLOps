{
 "cells": [
  {
   "cell_type": "code",
   "execution_count": 1,
   "metadata": {},
   "outputs": [],
   "source": [
    "import pandas as pd"
   ]
  },
  {
   "cell_type": "markdown",
   "metadata": {},
   "source": [
    "- **Carga de Datasets**"
   ]
  },
  {
   "cell_type": "code",
   "execution_count": 2,
   "metadata": {},
   "outputs": [
    {
     "data": {
      "text/html": [
       "<div>\n",
       "<style scoped>\n",
       "    .dataframe tbody tr th:only-of-type {\n",
       "        vertical-align: middle;\n",
       "    }\n",
       "\n",
       "    .dataframe tbody tr th {\n",
       "        vertical-align: top;\n",
       "    }\n",
       "\n",
       "    .dataframe thead th {\n",
       "        text-align: right;\n",
       "    }\n",
       "</style>\n",
       "<table border=\"1\" class=\"dataframe\">\n",
       "  <thead>\n",
       "    <tr style=\"text-align: right;\">\n",
       "      <th></th>\n",
       "      <th>genres</th>\n",
       "      <th>game_name</th>\n",
       "      <th>game_id</th>\n",
       "      <th>release_year</th>\n",
       "    </tr>\n",
       "  </thead>\n",
       "  <tbody>\n",
       "    <tr>\n",
       "      <th>0</th>\n",
       "      <td>Action</td>\n",
       "      <td>Lost Summoner Kitty</td>\n",
       "      <td>761140</td>\n",
       "      <td>2018</td>\n",
       "    </tr>\n",
       "    <tr>\n",
       "      <th>1</th>\n",
       "      <td>Casual</td>\n",
       "      <td>Lost Summoner Kitty</td>\n",
       "      <td>761140</td>\n",
       "      <td>2018</td>\n",
       "    </tr>\n",
       "    <tr>\n",
       "      <th>2</th>\n",
       "      <td>Indie</td>\n",
       "      <td>Lost Summoner Kitty</td>\n",
       "      <td>761140</td>\n",
       "      <td>2018</td>\n",
       "    </tr>\n",
       "    <tr>\n",
       "      <th>3</th>\n",
       "      <td>Simulation</td>\n",
       "      <td>Lost Summoner Kitty</td>\n",
       "      <td>761140</td>\n",
       "      <td>2018</td>\n",
       "    </tr>\n",
       "    <tr>\n",
       "      <th>4</th>\n",
       "      <td>Strategy</td>\n",
       "      <td>Lost Summoner Kitty</td>\n",
       "      <td>761140</td>\n",
       "      <td>2018</td>\n",
       "    </tr>\n",
       "    <tr>\n",
       "      <th>5</th>\n",
       "      <td>Free to Play</td>\n",
       "      <td>Ironbound</td>\n",
       "      <td>643980</td>\n",
       "      <td>2018</td>\n",
       "    </tr>\n",
       "    <tr>\n",
       "      <th>6</th>\n",
       "      <td>Indie</td>\n",
       "      <td>Ironbound</td>\n",
       "      <td>643980</td>\n",
       "      <td>2018</td>\n",
       "    </tr>\n",
       "    <tr>\n",
       "      <th>7</th>\n",
       "      <td>RPG</td>\n",
       "      <td>Ironbound</td>\n",
       "      <td>643980</td>\n",
       "      <td>2018</td>\n",
       "    </tr>\n",
       "    <tr>\n",
       "      <th>8</th>\n",
       "      <td>Strategy</td>\n",
       "      <td>Ironbound</td>\n",
       "      <td>643980</td>\n",
       "      <td>2018</td>\n",
       "    </tr>\n",
       "    <tr>\n",
       "      <th>9</th>\n",
       "      <td>Casual</td>\n",
       "      <td>Real Pool 3D - Poolians</td>\n",
       "      <td>670290</td>\n",
       "      <td>2017</td>\n",
       "    </tr>\n",
       "  </tbody>\n",
       "</table>\n",
       "</div>"
      ],
      "text/plain": [
       "         genres                game_name  game_id  release_year\n",
       "0        Action      Lost Summoner Kitty   761140          2018\n",
       "1        Casual      Lost Summoner Kitty   761140          2018\n",
       "2         Indie      Lost Summoner Kitty   761140          2018\n",
       "3    Simulation      Lost Summoner Kitty   761140          2018\n",
       "4      Strategy      Lost Summoner Kitty   761140          2018\n",
       "5  Free to Play                Ironbound   643980          2018\n",
       "6         Indie                Ironbound   643980          2018\n",
       "7           RPG                Ironbound   643980          2018\n",
       "8      Strategy                Ironbound   643980          2018\n",
       "9        Casual  Real Pool 3D - Poolians   670290          2017"
      ]
     },
     "execution_count": 2,
     "metadata": {},
     "output_type": "execute_result"
    }
   ],
   "source": [
    "df_games= pd.read_csv('DataSet_tranformados/games.csv',delimiter = ',',encoding = \"utf-8\")\n",
    "df_games.head(10)"
   ]
  },
  {
   "cell_type": "code",
   "execution_count": 3,
   "metadata": {},
   "outputs": [
    {
     "data": {
      "text/html": [
       "<div>\n",
       "<style scoped>\n",
       "    .dataframe tbody tr th:only-of-type {\n",
       "        vertical-align: middle;\n",
       "    }\n",
       "\n",
       "    .dataframe tbody tr th {\n",
       "        vertical-align: top;\n",
       "    }\n",
       "\n",
       "    .dataframe thead th {\n",
       "        text-align: right;\n",
       "    }\n",
       "</style>\n",
       "<table border=\"1\" class=\"dataframe\">\n",
       "  <thead>\n",
       "    <tr style=\"text-align: right;\">\n",
       "      <th></th>\n",
       "      <th>user_id</th>\n",
       "      <th>year</th>\n",
       "      <th>game_id</th>\n",
       "      <th>recommend</th>\n",
       "      <th>sentiment_analysis</th>\n",
       "    </tr>\n",
       "  </thead>\n",
       "  <tbody>\n",
       "    <tr>\n",
       "      <th>0</th>\n",
       "      <td>76561197970982479</td>\n",
       "      <td>2011</td>\n",
       "      <td>1250</td>\n",
       "      <td>True</td>\n",
       "      <td>2</td>\n",
       "    </tr>\n",
       "    <tr>\n",
       "      <th>1</th>\n",
       "      <td>76561197970982479</td>\n",
       "      <td>2011</td>\n",
       "      <td>22200</td>\n",
       "      <td>True</td>\n",
       "      <td>1</td>\n",
       "    </tr>\n",
       "    <tr>\n",
       "      <th>2</th>\n",
       "      <td>76561197970982479</td>\n",
       "      <td>2011</td>\n",
       "      <td>43110</td>\n",
       "      <td>True</td>\n",
       "      <td>2</td>\n",
       "    </tr>\n",
       "    <tr>\n",
       "      <th>3</th>\n",
       "      <td>js41637</td>\n",
       "      <td>2014</td>\n",
       "      <td>251610</td>\n",
       "      <td>True</td>\n",
       "      <td>2</td>\n",
       "    </tr>\n",
       "    <tr>\n",
       "      <th>4</th>\n",
       "      <td>js41637</td>\n",
       "      <td>2013</td>\n",
       "      <td>227300</td>\n",
       "      <td>True</td>\n",
       "      <td>2</td>\n",
       "    </tr>\n",
       "  </tbody>\n",
       "</table>\n",
       "</div>"
      ],
      "text/plain": [
       "             user_id  year  game_id  recommend  sentiment_analysis\n",
       "0  76561197970982479  2011     1250       True                   2\n",
       "1  76561197970982479  2011    22200       True                   1\n",
       "2  76561197970982479  2011    43110       True                   2\n",
       "3            js41637  2014   251610       True                   2\n",
       "4            js41637  2013   227300       True                   2"
      ]
     },
     "execution_count": 3,
     "metadata": {},
     "output_type": "execute_result"
    }
   ],
   "source": [
    "df_reviews= pd.read_csv('DataSet_tranformados/reviews.csv',delimiter = ',',encoding = \"utf-8\")\n",
    "df_reviews.head()"
   ]
  },
  {
   "cell_type": "code",
   "execution_count": 12,
   "metadata": {},
   "outputs": [
    {
     "data": {
      "text/html": [
       "<div>\n",
       "<style scoped>\n",
       "    .dataframe tbody tr th:only-of-type {\n",
       "        vertical-align: middle;\n",
       "    }\n",
       "\n",
       "    .dataframe tbody tr th {\n",
       "        vertical-align: top;\n",
       "    }\n",
       "\n",
       "    .dataframe thead th {\n",
       "        text-align: right;\n",
       "    }\n",
       "</style>\n",
       "<table border=\"1\" class=\"dataframe\">\n",
       "  <thead>\n",
       "    <tr style=\"text-align: right;\">\n",
       "      <th></th>\n",
       "      <th>user_id</th>\n",
       "      <th>game_id</th>\n",
       "      <th>game_name</th>\n",
       "      <th>playtime_forever</th>\n",
       "    </tr>\n",
       "  </thead>\n",
       "  <tbody>\n",
       "    <tr>\n",
       "      <th>0</th>\n",
       "      <td>76561197970982479</td>\n",
       "      <td>10</td>\n",
       "      <td>Counter-Strike</td>\n",
       "      <td>6</td>\n",
       "    </tr>\n",
       "    <tr>\n",
       "      <th>1</th>\n",
       "      <td>76561197970982479</td>\n",
       "      <td>20</td>\n",
       "      <td>Team Fortress Classic</td>\n",
       "      <td>0</td>\n",
       "    </tr>\n",
       "    <tr>\n",
       "      <th>2</th>\n",
       "      <td>76561197970982479</td>\n",
       "      <td>30</td>\n",
       "      <td>Day of Defeat</td>\n",
       "      <td>7</td>\n",
       "    </tr>\n",
       "    <tr>\n",
       "      <th>3</th>\n",
       "      <td>76561197970982479</td>\n",
       "      <td>40</td>\n",
       "      <td>Deathmatch Classic</td>\n",
       "      <td>0</td>\n",
       "    </tr>\n",
       "    <tr>\n",
       "      <th>4</th>\n",
       "      <td>76561197970982479</td>\n",
       "      <td>50</td>\n",
       "      <td>Half-Life: Opposing Force</td>\n",
       "      <td>0</td>\n",
       "    </tr>\n",
       "  </tbody>\n",
       "</table>\n",
       "</div>"
      ],
      "text/plain": [
       "             user_id  game_id                  game_name  playtime_forever\n",
       "0  76561197970982479       10             Counter-Strike                 6\n",
       "1  76561197970982479       20      Team Fortress Classic                 0\n",
       "2  76561197970982479       30              Day of Defeat                 7\n",
       "3  76561197970982479       40         Deathmatch Classic                 0\n",
       "4  76561197970982479       50  Half-Life: Opposing Force                 0"
      ]
     },
     "execution_count": 12,
     "metadata": {},
     "output_type": "execute_result"
    }
   ],
   "source": [
    "df_items= pd.read_parquet('DataSet_tranformados/items.parquet')\n",
    "df_items.head()"
   ]
  },
  {
   "cell_type": "code",
   "execution_count": 5,
   "metadata": {},
   "outputs": [
    {
     "name": "stdout",
     "output_type": "stream",
     "text": [
      "<class 'pandas.core.frame.DataFrame'>\n",
      "RangeIndex: 5153209 entries, 0 to 5153208\n",
      "Data columns (total 4 columns):\n",
      " #   Column            Dtype \n",
      "---  ------            ----- \n",
      " 0   user_id           object\n",
      " 1   game_id           int32 \n",
      " 2   game_name         object\n",
      " 3   playtime_forever  int64 \n",
      "dtypes: int32(1), int64(1), object(2)\n",
      "memory usage: 137.6+ MB\n"
     ]
    }
   ],
   "source": [
    "df_items.info()"
   ]
  },
  {
   "cell_type": "code",
   "execution_count": 75,
   "metadata": {},
   "outputs": [],
   "source": [
    "#df= df_games[df_games['genres'].notna()]\n",
    "#df['genres2']= df['genres'].apply(ast.literal_eval)"
   ]
  },
  {
   "cell_type": "code",
   "execution_count": 5,
   "metadata": {},
   "outputs": [],
   "source": [
    "def PlayTimeGenre(genero: str):\n",
    "    df_filtro_genero= df_games[df_games['genres'] == genero]\n",
    "    df_union = pd.merge(df_filtro_genero, df_items, on='game_name', how= 'inner')\n",
    "    df_grupo_por_genero_y_año = df_union.groupby(by=['genres','release_year'], as_index=False)['playtime_forever'].sum().sort_values(by='playtime_forever', ascending=False)\n",
    "    year_max_horas= int(df_grupo_por_genero_y_año.iloc[0,1])\n",
    "    result= [{'Año de lanzamiento con más horas jugadas para Género {}'.format(genero): year_max_horas}]\n",
    "    return result"
   ]
  },
  {
   "cell_type": "code",
   "execution_count": 20,
   "metadata": {},
   "outputs": [
    {
     "data": {
      "text/plain": [
       "[{'Año de lanzamiento con más horas jugadas para Género Action': 2012}]"
      ]
     },
     "execution_count": 20,
     "metadata": {},
     "output_type": "execute_result"
    }
   ],
   "source": [
    "PlayTimeGenre('Action')"
   ]
  },
  {
   "cell_type": "code",
   "execution_count": 50,
   "metadata": {},
   "outputs": [],
   "source": [
    "def UserForGenre(genero: str):\n",
    "    # Se agrupa el dataset \"df_Items\" por Usuario y juegos y se sumo el tiempo de juef\n",
    "    df_items_por_user = df_items.groupby(by=['user_id','game_name'], as_index=False)['playtime_forever'].sum() \n",
    "    # Se filtra el dataset \"df_games\" por el genero requerido\n",
    "    df_filtro_genero= df_games[df_games['genres'] == genero]\n",
    "    # Se hace una union de los juegos fltrados por el genero requerido y el dataset de items ya filtrado\n",
    "    df_union = pd.merge(df_filtro_genero, df_items_por_user, on='game_name', how= 'inner')\n",
    "    # se suman las horas jugadas de cada usuario por año\n",
    "    df_grupo_por_user_y_año = df_union.groupby(by=['user_id','release_year'], as_index=False)['playtime_forever'].sum().sort_values(by='playtime_forever', ascending=False)\n",
    "    # Se suman las horas jugadas de todos los años por usuario\n",
    "    df_user_max= df_grupo_por_user_y_año.groupby(by=['user_id'], as_index=False)['playtime_forever'].sum().sort_values(by='playtime_forever', ascending=False)\n",
    "    user_max_horas= df_user_max.iloc[0,0]   # Se toma el user_id con mas horas jugadas \n",
    "    df_horas_jugadas= df_grupo_por_user_y_año[df_grupo_por_user_y_año['user_id']==user_max_horas]   #se realiza un filtro por el usuario con mas horas jugadas\n",
    "    df_horas_jugadas.sort_values(by='playtime_forever', ascending=False)    #se ordena por tiempo de juego\n",
    "    \n",
    "    list_horas_xyear= [{'Año ': year, 'Horas: ': horas} for year, horas in zip(df_horas_jugadas['release_year'], df_horas_jugadas['playtime_forever'])]\n",
    "    \n",
    "    result= {'Usuario con mas horas jugadas para el Genero {}'.format(genero): user_max_horas,\n",
    "            'Horas Jugadas':list_horas_xyear}\n",
    "    \n",
    "    return result\n",
    "    \n",
    "    "
   ]
  },
  {
   "cell_type": "code",
   "execution_count": 51,
   "metadata": {},
   "outputs": [
    {
     "data": {
      "text/plain": [
       "{'Usuario con mas horas jugadas para el Genero Action': 'shinomegami',\n",
       " 'Horas Jugadas': [{'Año ': 2003, 'Horas: ': 532756},\n",
       "  {'Año ': 2009, 'Horas: ': 209805},\n",
       "  {'Año ': 2013, 'Horas: ': 148625},\n",
       "  {'Año ': 2015, 'Horas: ': 102197},\n",
       "  {'Año ': 2014, 'Horas: ': 92080},\n",
       "  {'Año ': 2011, 'Horas: ': 89382},\n",
       "  {'Año ': 2007, 'Horas: ': 68354},\n",
       "  {'Año ': 2016, 'Horas: ': 42563},\n",
       "  {'Año ': 2012, 'Horas: ': 18284},\n",
       "  {'Año ': 2000, 'Horas: ': 10775},\n",
       "  {'Año ': 2010, 'Horas: ': 9405},\n",
       "  {'Año ': 1998, 'Horas: ': 3716},\n",
       "  {'Año ': 2001, 'Horas: ': 2429},\n",
       "  {'Año ': 2006, 'Horas: ': 2043},\n",
       "  {'Año ': 1996, 'Horas: ': 1161},\n",
       "  {'Año ': 2005, 'Horas: ': 343},\n",
       "  {'Año ': 1999, 'Horas: ': 303},\n",
       "  {'Año ': 2008, 'Horas: ': 180},\n",
       "  {'Año ': 1988, 'Horas: ': 136},\n",
       "  {'Año ': 2017, 'Horas: ': 135},\n",
       "  {'Año ': 2004, 'Horas: ': 120},\n",
       "  {'Año ': 1997, 'Horas: ': 99},\n",
       "  {'Año ': 1995, 'Horas: ': 2},\n",
       "  {'Año ': 1993, 'Horas: ': 0},\n",
       "  {'Año ': 1992, 'Horas: ': 0},\n",
       "  {'Año ': 1991, 'Horas: ': 0},\n",
       "  {'Año ': 1990, 'Horas: ': 0},\n",
       "  {'Año ': 1994, 'Horas: ': 0},\n",
       "  {'Año ': 2002, 'Horas: ': 0}]}"
      ]
     },
     "execution_count": 51,
     "metadata": {},
     "output_type": "execute_result"
    }
   ],
   "source": [
    "UserForGenre('Action')"
   ]
  },
  {
   "cell_type": "code",
   "execution_count": 7,
   "metadata": {},
   "outputs": [],
   "source": [
    "def UsersRecommend(año: int):    \n",
    "    df_filtred_rec_sent_year= df_reviews[(df_reviews['recommend']== True) & (df_reviews['sentiment_analysis']> 0) & (df_reviews['year'] == año)]\n",
    "    df_grupo_xgames= df_filtred_rec_sent_year.groupby('game_id', as_index=False).size().sort_values(by='size', ascending=False)\n",
    "    df_games_sin_duplicados = df_games.drop_duplicates(subset=['game_id'])  # se crea una df temporal sin id_games duplicados\n",
    "    df_union_con_items= pd.merge(df_grupo_xgames, df_games_sin_duplicados, on='game_id', how= 'inner')\n",
    "    result= {'Puesto {}'.format(pos +1): game for pos, game in zip(range(3),df_union_con_items['game_name'].iloc[:3])}\n",
    "    return result"
   ]
  },
  {
   "cell_type": "code",
   "execution_count": 12,
   "metadata": {},
   "outputs": [
    {
     "data": {
      "text/plain": [
       "{'Puesto 1': 'Team Fortress 2',\n",
       " 'Puesto 2': 'Killing Floor',\n",
       " 'Puesto 3': 'Alien Swarm'}"
      ]
     },
     "execution_count": 12,
     "metadata": {},
     "output_type": "execute_result"
    }
   ],
   "source": [
    "UsersRecommend(2010)"
   ]
  },
  {
   "cell_type": "markdown",
   "metadata": {},
   "source": [
    "#########################################################################################################"
   ]
  },
  {
   "cell_type": "code",
   "execution_count": 50,
   "metadata": {},
   "outputs": [],
   "source": [
    "def Generar_df_funcion1():\n",
    "    df_union_games_items = pd.merge(df_games, df_items, on='game_name', how= 'inner')\n",
    "    df_grupo_por_genero_y_año = df_union_games_items.groupby(by=['genres','release_year'], as_index=False)['playtime_forever'].sum().sort_values(by='playtime_forever', ascending=False)\n",
    "    df_grupo_por_genero_y_año.to_csv('DataSet_tranformados/funcion1.csv', index=False)    \n",
    "    return"
   ]
  },
  {
   "cell_type": "code",
   "execution_count": 49,
   "metadata": {},
   "outputs": [],
   "source": [
    "Generar_df_funcion1()"
   ]
  },
  {
   "cell_type": "code",
   "execution_count": null,
   "metadata": {},
   "outputs": [],
   "source": [
    "def UserForGenre(genero: str):\n",
    "    # Se agrupa el dataset \"df_Items\" por Usuario y juegos y se sumo el tiempo de juef\n",
    "    df_items_por_user = df_items.groupby(by=['user_id','game_name'], as_index=False)['playtime_forever'].sum() \n",
    "    # Se filtra el dataset \"df_games\" por el genero requerido\n",
    "    df_filtro_genero= df_games[df_games['genres'] == genero]\n",
    "    # Se hace una union de los juegos fltrados por el genero requerido y el dataset de items ya filtrado\n",
    "    df_union = pd.merge(df_filtro_genero, df_items_por_user, on='game_name', how= 'inner')\n",
    "    # se suman las horas jugadas de cada usuario por año\n",
    "    df_grupo_por_user_y_año = df_union.groupby(by=['user_id','release_year'], as_index=False)['playtime_forever'].sum().sort_values(by='playtime_forever', ascending=False)\n",
    "    # Se suman las horas jugadas de todos los años por usuario\n",
    "    df_user_max= df_grupo_por_user_y_año.groupby(by=['user_id'], as_index=False)['playtime_forever'].sum().sort_values(by='playtime_forever', ascending=False)\n",
    "    user_max_horas= df_user_max.iloc[0,0]   # Se toma el user_id con mas horas jugadas \n",
    "    df_horas_jugadas= df_grupo_por_user_y_año[df_grupo_por_user_y_año['user_id']==user_max_horas]   #se realiza un filtro por el usuario con mas horas jugadas\n",
    "    df_horas_jugadas.sort_values(by='playtime_forever', ascending=False)    #se ordena por tiempo de juego\n",
    "    \n",
    "    list_horas_xyear= [{'Año ': year, 'Horas: ': horas} for year, horas in zip(df_horas_jugadas['release_year'], df_horas_jugadas['playtime_forever'])]\n",
    "    \n",
    "    result= {'Usuario con mas horas jugadas para el Genero {}'.format(genero): user_max_horas,\n",
    "            'Horas Jugadas':list_horas_xyear}\n",
    "    \n",
    "    return result\n",
    "    \n",
    "    "
   ]
  },
  {
   "cell_type": "code",
   "execution_count": 13,
   "metadata": {},
   "outputs": [
    {
     "data": {
      "text/plain": [
       "(5094092, 4)"
      ]
     },
     "execution_count": 13,
     "metadata": {},
     "output_type": "execute_result"
    }
   ],
   "source": [
    "df_items.shape"
   ]
  },
  {
   "cell_type": "code",
   "execution_count": 41,
   "metadata": {},
   "outputs": [],
   "source": [
    "def Generar_df_funcion2():\n",
    "    df_union_game_items = pd.merge(df_games, df_items, on='game_id', how= 'inner')\n",
    "    df_grupo_por_gen_us_year = df_union_game_items.groupby(by=['genres','user_id','release_year'], as_index=False)['playtime_forever'].sum()\n",
    "    df_grupo_por_gen_us_year.to_parquet('DataSet_tranformados/funcion2.parquet', index=False)\n",
    "    return"
   ]
  },
  {
   "cell_type": "code",
   "execution_count": 42,
   "metadata": {},
   "outputs": [],
   "source": [
    "Generar_df_funcion2()"
   ]
  },
  {
   "cell_type": "code",
   "execution_count": 80,
   "metadata": {},
   "outputs": [],
   "source": [
    "df_union_game_items = pd.merge(df_games, df_items, on='game_id', how= 'inner')"
   ]
  },
  {
   "cell_type": "code",
   "execution_count": 56,
   "metadata": {},
   "outputs": [
    {
     "data": {
      "text/plain": [
       "(9965664, 7)"
      ]
     },
     "execution_count": 56,
     "metadata": {},
     "output_type": "execute_result"
    }
   ],
   "source": [
    "df_union_game_items.shape"
   ]
  },
  {
   "cell_type": "code",
   "execution_count": 85,
   "metadata": {},
   "outputs": [
    {
     "data": {
      "text/plain": [
       "(3495282, 4)"
      ]
     },
     "execution_count": 85,
     "metadata": {},
     "output_type": "execute_result"
    }
   ],
   "source": [
    "df_grupo_por_gen_us_year = df_union_game_items.groupby(by=['genres','user_id','release_year'], as_index=False)['playtime_forever'].sum()\n",
    "df_grupo_por_gen_us_year.shape"
   ]
  },
  {
   "cell_type": "code",
   "execution_count": 18,
   "metadata": {},
   "outputs": [
    {
     "data": {
      "text/html": [
       "<div>\n",
       "<style scoped>\n",
       "    .dataframe tbody tr th:only-of-type {\n",
       "        vertical-align: middle;\n",
       "    }\n",
       "\n",
       "    .dataframe tbody tr th {\n",
       "        vertical-align: top;\n",
       "    }\n",
       "\n",
       "    .dataframe thead th {\n",
       "        text-align: right;\n",
       "    }\n",
       "</style>\n",
       "<table border=\"1\" class=\"dataframe\">\n",
       "  <thead>\n",
       "    <tr style=\"text-align: right;\">\n",
       "      <th></th>\n",
       "      <th>genres</th>\n",
       "      <th>game_name_x</th>\n",
       "      <th>game_id</th>\n",
       "      <th>release_year</th>\n",
       "      <th>user_id</th>\n",
       "      <th>game_name_y</th>\n",
       "      <th>playtime_forever</th>\n",
       "    </tr>\n",
       "  </thead>\n",
       "  <tbody>\n",
       "    <tr>\n",
       "      <th>0</th>\n",
       "      <td>Action</td>\n",
       "      <td>Carmageddon Max Pack</td>\n",
       "      <td>282010</td>\n",
       "      <td>1997</td>\n",
       "      <td>UTNerd24</td>\n",
       "      <td>Carmageddon Max Pack</td>\n",
       "      <td>5</td>\n",
       "    </tr>\n",
       "    <tr>\n",
       "      <th>1</th>\n",
       "      <td>Action</td>\n",
       "      <td>Carmageddon Max Pack</td>\n",
       "      <td>282010</td>\n",
       "      <td>1997</td>\n",
       "      <td>I_DID_911_JUST_SAYING</td>\n",
       "      <td>Carmageddon Max Pack</td>\n",
       "      <td>0</td>\n",
       "    </tr>\n",
       "    <tr>\n",
       "      <th>2</th>\n",
       "      <td>Action</td>\n",
       "      <td>Carmageddon Max Pack</td>\n",
       "      <td>282010</td>\n",
       "      <td>1997</td>\n",
       "      <td>76561197962104795</td>\n",
       "      <td>Carmageddon Max Pack</td>\n",
       "      <td>0</td>\n",
       "    </tr>\n",
       "    <tr>\n",
       "      <th>3</th>\n",
       "      <td>Action</td>\n",
       "      <td>Carmageddon Max Pack</td>\n",
       "      <td>282010</td>\n",
       "      <td>1997</td>\n",
       "      <td>r3ap3r78</td>\n",
       "      <td>Carmageddon Max Pack</td>\n",
       "      <td>0</td>\n",
       "    </tr>\n",
       "    <tr>\n",
       "      <th>4</th>\n",
       "      <td>Action</td>\n",
       "      <td>Carmageddon Max Pack</td>\n",
       "      <td>282010</td>\n",
       "      <td>1997</td>\n",
       "      <td>saint556</td>\n",
       "      <td>Carmageddon Max Pack</td>\n",
       "      <td>13</td>\n",
       "    </tr>\n",
       "  </tbody>\n",
       "</table>\n",
       "</div>"
      ],
      "text/plain": [
       "   genres           game_name_x  game_id  release_year                user_id  \\\n",
       "0  Action  Carmageddon Max Pack   282010          1997               UTNerd24   \n",
       "1  Action  Carmageddon Max Pack   282010          1997  I_DID_911_JUST_SAYING   \n",
       "2  Action  Carmageddon Max Pack   282010          1997      76561197962104795   \n",
       "3  Action  Carmageddon Max Pack   282010          1997               r3ap3r78   \n",
       "4  Action  Carmageddon Max Pack   282010          1997               saint556   \n",
       "\n",
       "            game_name_y  playtime_forever  \n",
       "0  Carmageddon Max Pack                 5  \n",
       "1  Carmageddon Max Pack                 0  \n",
       "2  Carmageddon Max Pack                 0  \n",
       "3  Carmageddon Max Pack                 0  \n",
       "4  Carmageddon Max Pack                13  "
      ]
     },
     "execution_count": 18,
     "metadata": {},
     "output_type": "execute_result"
    }
   ],
   "source": [
    "df_union_game_items.head()"
   ]
  },
  {
   "cell_type": "code",
   "execution_count": 61,
   "metadata": {},
   "outputs": [],
   "source": [
    "df_grupo_por_user_y_año = df_union_game_items.groupby(by=['genres','user_id','release_year'], as_index=False)['playtime_forever'].sum()"
   ]
  },
  {
   "cell_type": "code",
   "execution_count": 62,
   "metadata": {},
   "outputs": [
    {
     "data": {
      "text/html": [
       "<div>\n",
       "<style scoped>\n",
       "    .dataframe tbody tr th:only-of-type {\n",
       "        vertical-align: middle;\n",
       "    }\n",
       "\n",
       "    .dataframe tbody tr th {\n",
       "        vertical-align: top;\n",
       "    }\n",
       "\n",
       "    .dataframe thead th {\n",
       "        text-align: right;\n",
       "    }\n",
       "</style>\n",
       "<table border=\"1\" class=\"dataframe\">\n",
       "  <thead>\n",
       "    <tr style=\"text-align: right;\">\n",
       "      <th></th>\n",
       "      <th>genres</th>\n",
       "      <th>user_id</th>\n",
       "      <th>release_year</th>\n",
       "      <th>playtime_forever</th>\n",
       "    </tr>\n",
       "  </thead>\n",
       "  <tbody>\n",
       "    <tr>\n",
       "      <th>0</th>\n",
       "      <td>Action</td>\n",
       "      <td>--000--</td>\n",
       "      <td>0</td>\n",
       "      <td>4</td>\n",
       "    </tr>\n",
       "    <tr>\n",
       "      <th>1</th>\n",
       "      <td>Action</td>\n",
       "      <td>--000--</td>\n",
       "      <td>2009</td>\n",
       "      <td>5329</td>\n",
       "    </tr>\n",
       "    <tr>\n",
       "      <th>2</th>\n",
       "      <td>Action</td>\n",
       "      <td>--000--</td>\n",
       "      <td>2010</td>\n",
       "      <td>22</td>\n",
       "    </tr>\n",
       "    <tr>\n",
       "      <th>3</th>\n",
       "      <td>Action</td>\n",
       "      <td>--000--</td>\n",
       "      <td>2011</td>\n",
       "      <td>6522</td>\n",
       "    </tr>\n",
       "    <tr>\n",
       "      <th>4</th>\n",
       "      <td>Action</td>\n",
       "      <td>--000--</td>\n",
       "      <td>2012</td>\n",
       "      <td>109346</td>\n",
       "    </tr>\n",
       "    <tr>\n",
       "      <th>...</th>\n",
       "      <td>...</td>\n",
       "      <td>...</td>\n",
       "      <td>...</td>\n",
       "      <td>...</td>\n",
       "    </tr>\n",
       "    <tr>\n",
       "      <th>3495277</th>\n",
       "      <td>Web Publishing</td>\n",
       "      <td>zepavil</td>\n",
       "      <td>2015</td>\n",
       "      <td>9010</td>\n",
       "    </tr>\n",
       "    <tr>\n",
       "      <th>3495278</th>\n",
       "      <td>Web Publishing</td>\n",
       "      <td>zeshirky</td>\n",
       "      <td>2007</td>\n",
       "      <td>1</td>\n",
       "    </tr>\n",
       "    <tr>\n",
       "      <th>3495279</th>\n",
       "      <td>Web Publishing</td>\n",
       "      <td>zevlupine</td>\n",
       "      <td>2012</td>\n",
       "      <td>4</td>\n",
       "    </tr>\n",
       "    <tr>\n",
       "      <th>3495280</th>\n",
       "      <td>Web Publishing</td>\n",
       "      <td>zilaman</td>\n",
       "      <td>2013</td>\n",
       "      <td>9</td>\n",
       "    </tr>\n",
       "    <tr>\n",
       "      <th>3495281</th>\n",
       "      <td>Web Publishing</td>\n",
       "      <td>zipper559</td>\n",
       "      <td>2013</td>\n",
       "      <td>3</td>\n",
       "    </tr>\n",
       "  </tbody>\n",
       "</table>\n",
       "<p>3495282 rows × 4 columns</p>\n",
       "</div>"
      ],
      "text/plain": [
       "                 genres    user_id  release_year  playtime_forever\n",
       "0                Action    --000--             0                 4\n",
       "1                Action    --000--          2009              5329\n",
       "2                Action    --000--          2010                22\n",
       "3                Action    --000--          2011              6522\n",
       "4                Action    --000--          2012            109346\n",
       "...                 ...        ...           ...               ...\n",
       "3495277  Web Publishing    zepavil          2015              9010\n",
       "3495278  Web Publishing   zeshirky          2007                 1\n",
       "3495279  Web Publishing  zevlupine          2012                 4\n",
       "3495280  Web Publishing    zilaman          2013                 9\n",
       "3495281  Web Publishing  zipper559          2013                 3\n",
       "\n",
       "[3495282 rows x 4 columns]"
      ]
     },
     "execution_count": 62,
     "metadata": {},
     "output_type": "execute_result"
    }
   ],
   "source": [
    "df_grupo_por_user_y_año"
   ]
  },
  {
   "cell_type": "code",
   "execution_count": 88,
   "metadata": {},
   "outputs": [],
   "source": [
    "def UserForGenre2(genero: str):\n",
    " \n",
    "    # Se suman las horas jugadas de todos los años por usuario\n",
    "    df_filtro_genero= df_grupo_por_gen_us_year[df_grupo_por_gen_us_year['genres'] == genero]\n",
    "    df_user_max= df_filtro_genero.groupby(by=['user_id','release_year'], as_index=False)['playtime_forever'].sum().sort_values(by='playtime_forever', ascending=False)\n",
    "    \n",
    "    user_max_horas= df_user_max.iloc[0,0]   # Se toma el user_id con mas horas jugadas \n",
    "    df_horas_jugadas= df_user_max[df_user_max['user_id']==user_max_horas]   #se realiza un filtro por el usuario con mas horas jugadas\n",
    "    df_horas_jugadas.sort_values(by='playtime_forever', ascending=False)    #se ordena por tiempo de juego\n",
    "    \n",
    "    list_horas_xyear= [{'Año ': year, 'Horas: ': horas} for year, horas in zip(df_horas_jugadas['release_year'], df_horas_jugadas['playtime_forever'])]\n",
    "    \n",
    "    result= {'Usuario con mas horas jugadas para el Genero {}'.format(genero): user_max_horas,\n",
    "            'Horas Jugadas':list_horas_xyear}\n",
    "    return result"
   ]
  },
  {
   "cell_type": "code",
   "execution_count": 83,
   "metadata": {},
   "outputs": [
    {
     "data": {
      "text/html": [
       "<div>\n",
       "<style scoped>\n",
       "    .dataframe tbody tr th:only-of-type {\n",
       "        vertical-align: middle;\n",
       "    }\n",
       "\n",
       "    .dataframe tbody tr th {\n",
       "        vertical-align: top;\n",
       "    }\n",
       "\n",
       "    .dataframe thead th {\n",
       "        text-align: right;\n",
       "    }\n",
       "</style>\n",
       "<table border=\"1\" class=\"dataframe\">\n",
       "  <thead>\n",
       "    <tr style=\"text-align: right;\">\n",
       "      <th></th>\n",
       "      <th>user_id</th>\n",
       "      <th>release_year</th>\n",
       "      <th>playtime_forever</th>\n",
       "    </tr>\n",
       "  </thead>\n",
       "  <tbody>\n",
       "    <tr>\n",
       "      <th>415109</th>\n",
       "      <td>Evilutional</td>\n",
       "      <td>2012</td>\n",
       "      <td>680991</td>\n",
       "    </tr>\n",
       "    <tr>\n",
       "      <th>661750</th>\n",
       "      <td>shinomegami</td>\n",
       "      <td>2003</td>\n",
       "      <td>532756</td>\n",
       "    </tr>\n",
       "    <tr>\n",
       "      <th>23285</th>\n",
       "      <td>76561197977470391</td>\n",
       "      <td>2004</td>\n",
       "      <td>529351</td>\n",
       "    </tr>\n",
       "    <tr>\n",
       "      <th>680074</th>\n",
       "      <td>theoriginalmasta</td>\n",
       "      <td>2004</td>\n",
       "      <td>479261</td>\n",
       "    </tr>\n",
       "    <tr>\n",
       "      <th>75389</th>\n",
       "      <td>76561198027114566</td>\n",
       "      <td>2004</td>\n",
       "      <td>411858</td>\n",
       "    </tr>\n",
       "    <tr>\n",
       "      <th>...</th>\n",
       "      <td>...</td>\n",
       "      <td>...</td>\n",
       "      <td>...</td>\n",
       "    </tr>\n",
       "    <tr>\n",
       "      <th>619532</th>\n",
       "      <td>mattswtmn</td>\n",
       "      <td>2016</td>\n",
       "      <td>0</td>\n",
       "    </tr>\n",
       "    <tr>\n",
       "      <th>619530</th>\n",
       "      <td>mattswtmn</td>\n",
       "      <td>2014</td>\n",
       "      <td>0</td>\n",
       "    </tr>\n",
       "    <tr>\n",
       "      <th>296471</th>\n",
       "      <td>76561198081247765</td>\n",
       "      <td>2016</td>\n",
       "      <td>0</td>\n",
       "    </tr>\n",
       "    <tr>\n",
       "      <th>296489</th>\n",
       "      <td>76561198081250074</td>\n",
       "      <td>2017</td>\n",
       "      <td>0</td>\n",
       "    </tr>\n",
       "    <tr>\n",
       "      <th>547990</th>\n",
       "      <td>codenerd</td>\n",
       "      <td>2002</td>\n",
       "      <td>0</td>\n",
       "    </tr>\n",
       "  </tbody>\n",
       "</table>\n",
       "<p>703064 rows × 3 columns</p>\n",
       "</div>"
      ],
      "text/plain": [
       "                  user_id  release_year  playtime_forever\n",
       "415109        Evilutional          2012            680991\n",
       "661750        shinomegami          2003            532756\n",
       "23285   76561197977470391          2004            529351\n",
       "680074   theoriginalmasta          2004            479261\n",
       "75389   76561198027114566          2004            411858\n",
       "...                   ...           ...               ...\n",
       "619532          mattswtmn          2016                 0\n",
       "619530          mattswtmn          2014                 0\n",
       "296471  76561198081247765          2016                 0\n",
       "296489  76561198081250074          2017                 0\n",
       "547990           codenerd          2002                 0\n",
       "\n",
       "[703064 rows x 3 columns]"
      ]
     },
     "execution_count": 83,
     "metadata": {},
     "output_type": "execute_result"
    }
   ],
   "source": [
    "    # Se suman las horas jugadas de todos los años por usuario\n",
    "df_filtro_genero= df_grupo_por_user_y_año[df_grupo_por_user_y_año['genres'] == 'Action']\n",
    "df_user_max= df_filtro_genero.groupby(by=['user_id','release_year'], as_index=False)['playtime_forever'].sum().sort_values(by='playtime_forever', ascending=False)\n",
    "df_user_max"
   ]
  },
  {
   "cell_type": "code",
   "execution_count": 84,
   "metadata": {},
   "outputs": [
    {
     "data": {
      "text/html": [
       "<div>\n",
       "<style scoped>\n",
       "    .dataframe tbody tr th:only-of-type {\n",
       "        vertical-align: middle;\n",
       "    }\n",
       "\n",
       "    .dataframe tbody tr th {\n",
       "        vertical-align: top;\n",
       "    }\n",
       "\n",
       "    .dataframe thead th {\n",
       "        text-align: right;\n",
       "    }\n",
       "</style>\n",
       "<table border=\"1\" class=\"dataframe\">\n",
       "  <thead>\n",
       "    <tr style=\"text-align: right;\">\n",
       "      <th></th>\n",
       "      <th>user_id</th>\n",
       "      <th>release_year</th>\n",
       "      <th>playtime_forever</th>\n",
       "    </tr>\n",
       "  </thead>\n",
       "  <tbody>\n",
       "    <tr>\n",
       "      <th>415109</th>\n",
       "      <td>Evilutional</td>\n",
       "      <td>2012</td>\n",
       "      <td>680991</td>\n",
       "    </tr>\n",
       "    <tr>\n",
       "      <th>415110</th>\n",
       "      <td>Evilutional</td>\n",
       "      <td>2013</td>\n",
       "      <td>69726</td>\n",
       "    </tr>\n",
       "    <tr>\n",
       "      <th>415111</th>\n",
       "      <td>Evilutional</td>\n",
       "      <td>2014</td>\n",
       "      <td>24226</td>\n",
       "    </tr>\n",
       "    <tr>\n",
       "      <th>415114</th>\n",
       "      <td>Evilutional</td>\n",
       "      <td>2017</td>\n",
       "      <td>10894</td>\n",
       "    </tr>\n",
       "    <tr>\n",
       "      <th>415107</th>\n",
       "      <td>Evilutional</td>\n",
       "      <td>2010</td>\n",
       "      <td>4102</td>\n",
       "    </tr>\n",
       "    <tr>\n",
       "      <th>415106</th>\n",
       "      <td>Evilutional</td>\n",
       "      <td>2009</td>\n",
       "      <td>2037</td>\n",
       "    </tr>\n",
       "    <tr>\n",
       "      <th>415108</th>\n",
       "      <td>Evilutional</td>\n",
       "      <td>2011</td>\n",
       "      <td>1968</td>\n",
       "    </tr>\n",
       "    <tr>\n",
       "      <th>415113</th>\n",
       "      <td>Evilutional</td>\n",
       "      <td>2016</td>\n",
       "      <td>1291</td>\n",
       "    </tr>\n",
       "    <tr>\n",
       "      <th>415112</th>\n",
       "      <td>Evilutional</td>\n",
       "      <td>2015</td>\n",
       "      <td>112</td>\n",
       "    </tr>\n",
       "    <tr>\n",
       "      <th>415104</th>\n",
       "      <td>Evilutional</td>\n",
       "      <td>2003</td>\n",
       "      <td>0</td>\n",
       "    </tr>\n",
       "    <tr>\n",
       "      <th>415105</th>\n",
       "      <td>Evilutional</td>\n",
       "      <td>2006</td>\n",
       "      <td>0</td>\n",
       "    </tr>\n",
       "  </tbody>\n",
       "</table>\n",
       "</div>"
      ],
      "text/plain": [
       "            user_id  release_year  playtime_forever\n",
       "415109  Evilutional          2012            680991\n",
       "415110  Evilutional          2013             69726\n",
       "415111  Evilutional          2014             24226\n",
       "415114  Evilutional          2017             10894\n",
       "415107  Evilutional          2010              4102\n",
       "415106  Evilutional          2009              2037\n",
       "415108  Evilutional          2011              1968\n",
       "415113  Evilutional          2016              1291\n",
       "415112  Evilutional          2015               112\n",
       "415104  Evilutional          2003                 0\n",
       "415105  Evilutional          2006                 0"
      ]
     },
     "execution_count": 84,
     "metadata": {},
     "output_type": "execute_result"
    }
   ],
   "source": [
    "user_max_horas= df_user_max.iloc[0,0]   # Se toma el user_id con mas horas jugadas \n",
    "df_horas_jugadas= df_user_max[df_user_max['user_id']==user_max_horas]   #se realiza un filtro por el usuario con mas horas jugadas\n",
    "df_horas_jugadas.sort_values(by='playtime_forever', ascending=False)    #se ordena por tiempo de juego\n",
    "df_horas_jugadas"
   ]
  },
  {
   "cell_type": "code",
   "execution_count": 92,
   "metadata": {},
   "outputs": [
    {
     "data": {
      "text/plain": [
       "{'Usuario con mas horas jugadas para el Genero Strategy': 'shinomegami',\n",
       " 'Horas Jugadas': [{'Año ': 2003, 'Horas: ': 531614},\n",
       "  {'Año ': 2013, 'Horas: ': 139630},\n",
       "  {'Año ': 2014, 'Horas: ': 124901},\n",
       "  {'Año ': 2012, 'Horas: ': 79098},\n",
       "  {'Año ': 2007, 'Horas: ': 68627},\n",
       "  {'Año ': 1993, 'Horas: ': 22001},\n",
       "  {'Año ': 0, 'Horas: ': 18783},\n",
       "  {'Año ': 2010, 'Horas: ': 13733},\n",
       "  {'Año ': 2009, 'Horas: ': 8434},\n",
       "  {'Año ': 2011, 'Horas: ': 6882},\n",
       "  {'Año ': 2015, 'Horas: ': 3270},\n",
       "  {'Año ': 2002, 'Horas: ': 2434},\n",
       "  {'Año ': 2016, 'Horas: ': 1379},\n",
       "  {'Año ': 2008, 'Horas: ': 356},\n",
       "  {'Año ': 2004, 'Horas: ': 76},\n",
       "  {'Año ': 1999, 'Horas: ': 14},\n",
       "  {'Año ': 2001, 'Horas: ': 2},\n",
       "  {'Año ': 1997, 'Horas: ': 0},\n",
       "  {'Año ': 1998, 'Horas: ': 0},\n",
       "  {'Año ': 2006, 'Horas: ': 0},\n",
       "  {'Año ': 2005, 'Horas: ': 0},\n",
       "  {'Año ': 2017, 'Horas: ': 0}]}"
      ]
     },
     "execution_count": 92,
     "metadata": {},
     "output_type": "execute_result"
    }
   ],
   "source": [
    "UserForGenre('Strategy')"
   ]
  },
  {
   "cell_type": "code",
   "execution_count": 91,
   "metadata": {},
   "outputs": [
    {
     "data": {
      "text/plain": [
       "{'Usuario con mas horas jugadas para el Genero Strategy': 'shinomegami',\n",
       " 'Horas Jugadas': [{'Año ': 2003, 'Horas: ': 531616},\n",
       "  {'Año ': 2013, 'Horas: ': 147508},\n",
       "  {'Año ': 2014, 'Horas: ': 127735},\n",
       "  {'Año ': 2012, 'Horas: ': 82587},\n",
       "  {'Año ': 2009, 'Horas: ': 74762},\n",
       "  {'Año ': 2007, 'Horas: ': 68861},\n",
       "  {'Año ': 0, 'Horas: ': 37096},\n",
       "  {'Año ': 1993, 'Horas: ': 22001},\n",
       "  {'Año ': 1995, 'Horas: ': 20485},\n",
       "  {'Año ': 2010, 'Horas: ': 14092},\n",
       "  {'Año ': 2011, 'Horas: ': 6385},\n",
       "  {'Año ': 2015, 'Horas: ': 3407},\n",
       "  {'Año ': 2002, 'Horas: ': 2434},\n",
       "  {'Año ': 2016, 'Horas: ': 1379},\n",
       "  {'Año ': 2004, 'Horas: ': 824},\n",
       "  {'Año ': 2008, 'Horas: ': 356},\n",
       "  {'Año ': 1999, 'Horas: ': 14},\n",
       "  {'Año ': 2001, 'Horas: ': 2},\n",
       "  {'Año ': 2006, 'Horas: ': 2},\n",
       "  {'Año ': 2017, 'Horas: ': 0},\n",
       "  {'Año ': 2005, 'Horas: ': 0},\n",
       "  {'Año ': 2000, 'Horas: ': 0},\n",
       "  {'Año ': 1998, 'Horas: ': 0},\n",
       "  {'Año ': 1997, 'Horas: ': 0}]}"
      ]
     },
     "execution_count": 91,
     "metadata": {},
     "output_type": "execute_result"
    }
   ],
   "source": [
    "UserForGenre2('Strategy')"
   ]
  }
 ],
 "metadata": {
  "kernelspec": {
   "display_name": "Python 3",
   "language": "python",
   "name": "python3"
  },
  "language_info": {
   "codemirror_mode": {
    "name": "ipython",
    "version": 3
   },
   "file_extension": ".py",
   "mimetype": "text/x-python",
   "name": "python",
   "nbconvert_exporter": "python",
   "pygments_lexer": "ipython3",
   "version": "3.11.1"
  }
 },
 "nbformat": 4,
 "nbformat_minor": 2
}
