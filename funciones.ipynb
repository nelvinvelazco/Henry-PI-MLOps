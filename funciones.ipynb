{
 "cells": [
  {
   "cell_type": "code",
   "execution_count": 1,
   "metadata": {},
   "outputs": [],
   "source": [
    "import pandas as pd     # Se carga la Libreria de pandas\n",
    "import numpy as np"
   ]
  },
  {
   "cell_type": "markdown",
   "metadata": {},
   "source": [
    "- **Carga de Datasets**"
   ]
  },
  {
   "cell_type": "code",
   "execution_count": 2,
   "metadata": {},
   "outputs": [
    {
     "data": {
      "text/html": [
       "<div>\n",
       "<style scoped>\n",
       "    .dataframe tbody tr th:only-of-type {\n",
       "        vertical-align: middle;\n",
       "    }\n",
       "\n",
       "    .dataframe tbody tr th {\n",
       "        vertical-align: top;\n",
       "    }\n",
       "\n",
       "    .dataframe thead th {\n",
       "        text-align: right;\n",
       "    }\n",
       "</style>\n",
       "<table border=\"1\" class=\"dataframe\">\n",
       "  <thead>\n",
       "    <tr style=\"text-align: right;\">\n",
       "      <th></th>\n",
       "      <th>genres</th>\n",
       "      <th>game_name</th>\n",
       "      <th>game_id</th>\n",
       "      <th>release_year</th>\n",
       "    </tr>\n",
       "  </thead>\n",
       "  <tbody>\n",
       "    <tr>\n",
       "      <th>0</th>\n",
       "      <td>Action</td>\n",
       "      <td>Lost Summoner Kitty</td>\n",
       "      <td>761140</td>\n",
       "      <td>2018</td>\n",
       "    </tr>\n",
       "    <tr>\n",
       "      <th>1</th>\n",
       "      <td>Casual</td>\n",
       "      <td>Lost Summoner Kitty</td>\n",
       "      <td>761140</td>\n",
       "      <td>2018</td>\n",
       "    </tr>\n",
       "    <tr>\n",
       "      <th>2</th>\n",
       "      <td>Indie</td>\n",
       "      <td>Lost Summoner Kitty</td>\n",
       "      <td>761140</td>\n",
       "      <td>2018</td>\n",
       "    </tr>\n",
       "    <tr>\n",
       "      <th>3</th>\n",
       "      <td>Simulation</td>\n",
       "      <td>Lost Summoner Kitty</td>\n",
       "      <td>761140</td>\n",
       "      <td>2018</td>\n",
       "    </tr>\n",
       "    <tr>\n",
       "      <th>4</th>\n",
       "      <td>Strategy</td>\n",
       "      <td>Lost Summoner Kitty</td>\n",
       "      <td>761140</td>\n",
       "      <td>2018</td>\n",
       "    </tr>\n",
       "    <tr>\n",
       "      <th>5</th>\n",
       "      <td>Free to Play</td>\n",
       "      <td>Ironbound</td>\n",
       "      <td>643980</td>\n",
       "      <td>2018</td>\n",
       "    </tr>\n",
       "    <tr>\n",
       "      <th>6</th>\n",
       "      <td>Indie</td>\n",
       "      <td>Ironbound</td>\n",
       "      <td>643980</td>\n",
       "      <td>2018</td>\n",
       "    </tr>\n",
       "    <tr>\n",
       "      <th>7</th>\n",
       "      <td>RPG</td>\n",
       "      <td>Ironbound</td>\n",
       "      <td>643980</td>\n",
       "      <td>2018</td>\n",
       "    </tr>\n",
       "    <tr>\n",
       "      <th>8</th>\n",
       "      <td>Strategy</td>\n",
       "      <td>Ironbound</td>\n",
       "      <td>643980</td>\n",
       "      <td>2018</td>\n",
       "    </tr>\n",
       "    <tr>\n",
       "      <th>9</th>\n",
       "      <td>Casual</td>\n",
       "      <td>Real Pool 3D - Poolians</td>\n",
       "      <td>670290</td>\n",
       "      <td>2017</td>\n",
       "    </tr>\n",
       "  </tbody>\n",
       "</table>\n",
       "</div>"
      ],
      "text/plain": [
       "         genres                game_name  game_id  release_year\n",
       "0        Action      Lost Summoner Kitty   761140          2018\n",
       "1        Casual      Lost Summoner Kitty   761140          2018\n",
       "2         Indie      Lost Summoner Kitty   761140          2018\n",
       "3    Simulation      Lost Summoner Kitty   761140          2018\n",
       "4      Strategy      Lost Summoner Kitty   761140          2018\n",
       "5  Free to Play                Ironbound   643980          2018\n",
       "6         Indie                Ironbound   643980          2018\n",
       "7           RPG                Ironbound   643980          2018\n",
       "8      Strategy                Ironbound   643980          2018\n",
       "9        Casual  Real Pool 3D - Poolians   670290          2017"
      ]
     },
     "execution_count": 2,
     "metadata": {},
     "output_type": "execute_result"
    }
   ],
   "source": [
    "# Se carga el dataset games desde el archivo csv\n",
    "df_games= pd.read_csv('DataSet_tranformados/games.csv',delimiter = ',',encoding = \"utf-8\")\n",
    "df_games.head(10)"
   ]
  },
  {
   "cell_type": "code",
   "execution_count": 3,
   "metadata": {},
   "outputs": [
    {
     "name": "stdout",
     "output_type": "stream",
     "text": [
      "<class 'pandas.core.frame.DataFrame'>\n",
      "RangeIndex: 74832 entries, 0 to 74831\n",
      "Data columns (total 4 columns):\n",
      " #   Column        Non-Null Count  Dtype \n",
      "---  ------        --------------  ----- \n",
      " 0   genres        71550 non-null  object\n",
      " 1   game_name     74832 non-null  object\n",
      " 2   game_id       74832 non-null  int64 \n",
      " 3   release_year  74832 non-null  int64 \n",
      "dtypes: int64(2), object(2)\n",
      "memory usage: 2.3+ MB\n"
     ]
    }
   ],
   "source": [
    "df_games.info()     # Muestra la informacion de las columnas"
   ]
  },
  {
   "cell_type": "code",
   "execution_count": 4,
   "metadata": {},
   "outputs": [
    {
     "data": {
      "text/html": [
       "<div>\n",
       "<style scoped>\n",
       "    .dataframe tbody tr th:only-of-type {\n",
       "        vertical-align: middle;\n",
       "    }\n",
       "\n",
       "    .dataframe tbody tr th {\n",
       "        vertical-align: top;\n",
       "    }\n",
       "\n",
       "    .dataframe thead th {\n",
       "        text-align: right;\n",
       "    }\n",
       "</style>\n",
       "<table border=\"1\" class=\"dataframe\">\n",
       "  <thead>\n",
       "    <tr style=\"text-align: right;\">\n",
       "      <th></th>\n",
       "      <th>user_id</th>\n",
       "      <th>year</th>\n",
       "      <th>game_id</th>\n",
       "      <th>recommend</th>\n",
       "      <th>sentiment_analysis</th>\n",
       "    </tr>\n",
       "  </thead>\n",
       "  <tbody>\n",
       "    <tr>\n",
       "      <th>0</th>\n",
       "      <td>76561197970982479</td>\n",
       "      <td>2011</td>\n",
       "      <td>1250</td>\n",
       "      <td>True</td>\n",
       "      <td>2</td>\n",
       "    </tr>\n",
       "    <tr>\n",
       "      <th>1</th>\n",
       "      <td>76561197970982479</td>\n",
       "      <td>2011</td>\n",
       "      <td>22200</td>\n",
       "      <td>True</td>\n",
       "      <td>1</td>\n",
       "    </tr>\n",
       "    <tr>\n",
       "      <th>2</th>\n",
       "      <td>76561197970982479</td>\n",
       "      <td>2011</td>\n",
       "      <td>43110</td>\n",
       "      <td>True</td>\n",
       "      <td>2</td>\n",
       "    </tr>\n",
       "    <tr>\n",
       "      <th>3</th>\n",
       "      <td>js41637</td>\n",
       "      <td>2014</td>\n",
       "      <td>251610</td>\n",
       "      <td>True</td>\n",
       "      <td>2</td>\n",
       "    </tr>\n",
       "    <tr>\n",
       "      <th>4</th>\n",
       "      <td>js41637</td>\n",
       "      <td>2013</td>\n",
       "      <td>227300</td>\n",
       "      <td>True</td>\n",
       "      <td>2</td>\n",
       "    </tr>\n",
       "  </tbody>\n",
       "</table>\n",
       "</div>"
      ],
      "text/plain": [
       "             user_id  year  game_id  recommend  sentiment_analysis\n",
       "0  76561197970982479  2011     1250       True                   2\n",
       "1  76561197970982479  2011    22200       True                   1\n",
       "2  76561197970982479  2011    43110       True                   2\n",
       "3            js41637  2014   251610       True                   2\n",
       "4            js41637  2013   227300       True                   2"
      ]
     },
     "execution_count": 4,
     "metadata": {},
     "output_type": "execute_result"
    }
   ],
   "source": [
    "# Se carga el dataset reviews desde el archivo csv\n",
    "df_reviews= pd.read_csv('DataSet_tranformados/reviews.csv',delimiter = ',',encoding = \"utf-8\")\n",
    "df_reviews.head()"
   ]
  },
  {
   "cell_type": "code",
   "execution_count": 5,
   "metadata": {},
   "outputs": [
    {
     "data": {
      "text/html": [
       "<div>\n",
       "<style scoped>\n",
       "    .dataframe tbody tr th:only-of-type {\n",
       "        vertical-align: middle;\n",
       "    }\n",
       "\n",
       "    .dataframe tbody tr th {\n",
       "        vertical-align: top;\n",
       "    }\n",
       "\n",
       "    .dataframe thead th {\n",
       "        text-align: right;\n",
       "    }\n",
       "</style>\n",
       "<table border=\"1\" class=\"dataframe\">\n",
       "  <thead>\n",
       "    <tr style=\"text-align: right;\">\n",
       "      <th></th>\n",
       "      <th>user_id</th>\n",
       "      <th>game_id</th>\n",
       "      <th>game_name</th>\n",
       "      <th>playtime_forever</th>\n",
       "    </tr>\n",
       "  </thead>\n",
       "  <tbody>\n",
       "    <tr>\n",
       "      <th>0</th>\n",
       "      <td>76561197970982479</td>\n",
       "      <td>10</td>\n",
       "      <td>Counter-Strike</td>\n",
       "      <td>6</td>\n",
       "    </tr>\n",
       "    <tr>\n",
       "      <th>1</th>\n",
       "      <td>76561197970982479</td>\n",
       "      <td>20</td>\n",
       "      <td>Team Fortress Classic</td>\n",
       "      <td>0</td>\n",
       "    </tr>\n",
       "    <tr>\n",
       "      <th>2</th>\n",
       "      <td>76561197970982479</td>\n",
       "      <td>30</td>\n",
       "      <td>Day of Defeat</td>\n",
       "      <td>7</td>\n",
       "    </tr>\n",
       "    <tr>\n",
       "      <th>3</th>\n",
       "      <td>76561197970982479</td>\n",
       "      <td>40</td>\n",
       "      <td>Deathmatch Classic</td>\n",
       "      <td>0</td>\n",
       "    </tr>\n",
       "    <tr>\n",
       "      <th>4</th>\n",
       "      <td>76561197970982479</td>\n",
       "      <td>50</td>\n",
       "      <td>Half-Life: Opposing Force</td>\n",
       "      <td>0</td>\n",
       "    </tr>\n",
       "  </tbody>\n",
       "</table>\n",
       "</div>"
      ],
      "text/plain": [
       "             user_id  game_id                  game_name  playtime_forever\n",
       "0  76561197970982479       10             Counter-Strike                 6\n",
       "1  76561197970982479       20      Team Fortress Classic                 0\n",
       "2  76561197970982479       30              Day of Defeat                 7\n",
       "3  76561197970982479       40         Deathmatch Classic                 0\n",
       "4  76561197970982479       50  Half-Life: Opposing Force                 0"
      ]
     },
     "execution_count": 5,
     "metadata": {},
     "output_type": "execute_result"
    }
   ],
   "source": [
    "# Se carga el dataset items desde el archivo csv\n",
    "df_items= pd.read_parquet('DataSet_tranformados/items.parquet')\n",
    "df_items.head()"
   ]
  },
  {
   "cell_type": "code",
   "execution_count": 6,
   "metadata": {},
   "outputs": [
    {
     "name": "stdout",
     "output_type": "stream",
     "text": [
      "<class 'pandas.core.frame.DataFrame'>\n",
      "RangeIndex: 5094092 entries, 0 to 5094091\n",
      "Data columns (total 4 columns):\n",
      " #   Column            Dtype \n",
      "---  ------            ----- \n",
      " 0   user_id           object\n",
      " 1   game_id           int32 \n",
      " 2   game_name         object\n",
      " 3   playtime_forever  int64 \n",
      "dtypes: int32(1), int64(1), object(2)\n",
      "memory usage: 136.0+ MB\n"
     ]
    }
   ],
   "source": [
    "df_items.info()     # Muestra la informacion de las columnas"
   ]
  },
  {
   "cell_type": "code",
   "execution_count": 7,
   "metadata": {},
   "outputs": [],
   "source": [
    "def buscar_genero(genero: str):\n",
    "    generos = df_games['genres'].unique()\n",
    "    for i, valor in enumerate(generos):\n",
    "        if genero.lower() == str(valor).lower():\n",
    "            result= valor\n",
    "            break\n",
    "        else:\n",
    "            result= ''\n",
    "    return result\n"
   ]
  },
  {
   "cell_type": "code",
   "execution_count": 8,
   "metadata": {},
   "outputs": [],
   "source": [
    "def PlayTimeGenre(genero: str):    \n",
    "    df_filtro_genero= df_games.copy()       # Copia el df de Games\n",
    "    df_filtro_genero['genres']= df_filtro_genero['genres'].str.lower()      #Convierte la columan Genero a minusculas\n",
    "    df_filtro_genero= df_filtro_genero[df_filtro_genero['genres'] == genero.lower()]    # Se filtran los games por el genero de entrada en minusculas\n",
    "    indice_genero= df_filtro_genero.index[0]            # Se toma el indice de la primera fila del df filtrado\n",
    "    strGenero= df_games.loc[indice_genero]['genres']    # Guarda el Genero como esta en el df_game original para visualizarlo en el resultado\n",
    "    df_union = pd.merge(df_filtro_genero, df_items, on='game_name', how= 'inner')   # Se unen (join) los juegos con los items\n",
    "    # Se agrupa por y año\n",
    "    df_grupo_por_año = df_union.groupby('release_year', as_index=False)['playtime_forever'].sum().sort_values(by='playtime_forever', ascending=False)\n",
    "    year_max_horas= int(df_grupo_por_año.iloc[0,0])     # Se toma el año de la primera fila del dataframe ordenado\n",
    "    # Guarda la salida de la funcion a una variable\n",
    "    result= [{'Año de lanzamiento con más horas jugadas para Género {}'.format(strGenero): year_max_horas}]    \n",
    "    return result"
   ]
  },
  {
   "cell_type": "code",
   "execution_count": 9,
   "metadata": {},
   "outputs": [
    {
     "data": {
      "text/plain": [
       "[{'Año de lanzamiento con más horas jugadas para Género Strategy': 2013}]"
      ]
     },
     "execution_count": 9,
     "metadata": {},
     "output_type": "execute_result"
    }
   ],
   "source": [
    "PlayTimeGenre('STRAtegy')"
   ]
  },
  {
   "cell_type": "code",
   "execution_count": 11,
   "metadata": {},
   "outputs": [],
   "source": [
    "def UserForGenre(genero: str):\n",
    "    df_filtro_genero= df_games.copy()       # Copia el df de Games  \n",
    "    df_filtro_genero['genres']= df_filtro_genero['genres'].str.lower()      #Convierte la columan Genero a minusculas\n",
    "    # Se agrupa el dataset \"df_Items\" por Usuario y juegos y se sumo el tiempo de juef\n",
    "    df_items_por_user = df_items.groupby(by=['user_id','game_name'], as_index=False)['playtime_forever'].sum() \n",
    "    # Se filtra el dataset \"df_games\" por el genero requerido\n",
    "    df_filtro_genero= df_filtro_genero[df_filtro_genero['genres'] == genero.lower()]\n",
    "    indice_genero= df_filtro_genero.index[0]            # Se toma el indice de la primera fila del df filtrado\n",
    "    strGenero= df_games.loc[indice_genero]['genres']    # Guarda el Genero como esta en el df_game original para visualizarlo en el resultado\n",
    "    # Se hace una union de los juegos fltrados por el genero requerido y el dataset de items ya filtrado\n",
    "    df_union = pd.merge(df_filtro_genero, df_items_por_user, on='game_name', how= 'inner')\n",
    "    # se suman las horas jugadas de cada usuario por año\n",
    "    df_grupo_por_user_y_año = df_union.groupby(by=['user_id','release_year'], as_index=False)['playtime_forever'].sum().sort_values(by='playtime_forever', ascending=False)\n",
    "    # Se suman las horas jugadas de todos los años por usuario\n",
    "    df_user_max= df_grupo_por_user_y_año.groupby(by=['user_id'], as_index=False)['playtime_forever'].sum().sort_values(by='playtime_forever', ascending=False)\n",
    "    user_max_horas= df_user_max.iloc[0,0]   # Se toma el user_id con mas horas jugadas \n",
    "    df_horas_jugadas= df_grupo_por_user_y_año[df_grupo_por_user_y_año['user_id']==user_max_horas]   #se realiza un filtro por el usuario con mas horas jugadas\n",
    "    df_horas_jugadas.sort_values(by='playtime_forever', ascending=False)    #se ordena por tiempo de juego\n",
    "    \n",
    "    # Se itera sobre el df donde se estan los años y hora jugadas por año y se guardan en una lista\n",
    "    list_horas_xyear= [{'Año ': year, 'Horas: ': horas} for year, horas in zip(df_horas_jugadas['release_year'], df_horas_jugadas['playtime_forever'])]\n",
    "    \n",
    "    # Se guardan los resultado en la variable result\n",
    "    result= {'Usuario con mas horas jugadas para el Genero {}'.format(strGenero): user_max_horas,\n",
    "            'Horas Jugadas':list_horas_xyear}\n",
    "    \n",
    "    return result\n",
    "    \n",
    "    "
   ]
  },
  {
   "cell_type": "code",
   "execution_count": 14,
   "metadata": {},
   "outputs": [
    {
     "data": {
      "text/plain": [
       "{'Usuario con mas horas jugadas para el Genero Casual': 'REBAS_AS_F-T',\n",
       " 'Horas Jugadas': [{'Año ': 2016, 'Horas: ': 467034},\n",
       "  {'Año ': 2015, 'Horas: ': 358359},\n",
       "  {'Año ': 2014, 'Horas: ': 117349},\n",
       "  {'Año ': 2013, 'Horas: ': 105256},\n",
       "  {'Año ': 2011, 'Horas: ': 81201},\n",
       "  {'Año ': 2012, 'Horas: ': 28625},\n",
       "  {'Año ': 2010, 'Horas: ': 12066},\n",
       "  {'Año ': 2004, 'Horas: ': 6985},\n",
       "  {'Año ': 2009, 'Horas: ': 2870},\n",
       "  {'Año ': 2008, 'Horas: ': 1241},\n",
       "  {'Año ': 2017, 'Horas: ': 58},\n",
       "  {'Año ': 2007, 'Horas: ': 0},\n",
       "  {'Año ': 2002, 'Horas: ': 0},\n",
       "  {'Año ': 1999, 'Horas: ': 0},\n",
       "  {'Año ': 0, 'Horas: ': 0}]}"
      ]
     },
     "execution_count": 14,
     "metadata": {},
     "output_type": "execute_result"
    }
   ],
   "source": [
    "UserForGenre('CaSUal')"
   ]
  },
  {
   "cell_type": "code",
   "execution_count": 15,
   "metadata": {},
   "outputs": [],
   "source": [
    "# Funcion para usar el mismo codigo para las funcion de juegos remomendados y no recomendados\n",
    "def userRecomended_or_Not(año: int, tipo: bytes):\n",
    "    if tipo == 1:   # Se filtran los juegos remomendados\n",
    "        df_filtred_rec_sent_year= df_reviews[(df_reviews['recommend']== True) & (df_reviews['sentiment_analysis']> 0) & (df_reviews['year'] == año)]\n",
    "    else:       #Se filtra por los juego no recomendados\n",
    "        df_filtred_rec_sent_year= df_reviews[(df_reviews['recommend']== False) & (df_reviews['sentiment_analysis']== 0) & (df_reviews['year'] == año)]\n",
    "    # Se agupan los reviews por juego y se cuentan\n",
    "    df_grupo_xgames= df_filtred_rec_sent_year.groupby('game_id', as_index=False).size().sort_values(by='size', ascending=False)\n",
    "    # se crea un df temporal con los valores unicos de juegos para hacer el join con reviews\n",
    "    df_games_sin_duplicados = df_games.drop_duplicates(subset=['game_id'])  \n",
    "    # Hace una union(join) de los reviews filtrados con los juegos\n",
    "    df_union_con_reviews= pd.merge(df_grupo_xgames, df_games_sin_duplicados, on='game_id', how= 'inner')\n",
    "    # Se toman los 3 primeros ligares de los juegos con mas review segun el filtro aplicado\n",
    "    result= {'Puesto {}'.format(pos +1): game for pos, game in zip(range(3),df_union_con_reviews['game_name'].iloc[:3])}\n",
    "    return result"
   ]
  },
  {
   "cell_type": "code",
   "execution_count": 16,
   "metadata": {},
   "outputs": [],
   "source": [
    "def UsersRecommend(año: int):   \n",
    "    # Se filtran los juegos remomendados \n",
    "    df_filtred_rec_sent_year= df_reviews[(df_reviews['recommend']== True) & (df_reviews['sentiment_analysis']> 0) & (df_reviews['year'] == año)]\n",
    "    # Se agupan los reviews por juego y se cuentan\n",
    "    df_grupo_xgames= df_filtred_rec_sent_year.groupby('game_id', as_index=False).size().sort_values(by='size', ascending=False)\n",
    "    # se crea un df temporal con los valores unicos de juegos para hacer el join con reviews\n",
    "    df_games_sin_duplicados = df_games.drop_duplicates(subset=['game_id'])  # se crea una df temporal sin id_games duplicados\n",
    "    # Hace una union(join) de los reviews filtrados con los juegos\n",
    "    df_union_con_reviews= pd.merge(df_grupo_xgames, df_games_sin_duplicados, on='game_id', how= 'inner')\n",
    "    # Se toman los 3 primeros ligares de los juegos con mas review segun el filtro aplicado para la salida\n",
    "    result= {'Puesto {}'.format(pos +1): game for pos, game in zip(range(3),df_union_con_reviews['game_name'].iloc[:3])}\n",
    "    return result"
   ]
  },
  {
   "cell_type": "code",
   "execution_count": 17,
   "metadata": {},
   "outputs": [
    {
     "data": {
      "text/plain": [
       "{'Puesto 1': 'Team Fortress 2',\n",
       " 'Puesto 2': 'Killing Floor',\n",
       " 'Puesto 3': 'Alien Swarm'}"
      ]
     },
     "execution_count": 17,
     "metadata": {},
     "output_type": "execute_result"
    }
   ],
   "source": [
    "UsersRecommend(2010)"
   ]
  },
  {
   "cell_type": "code",
   "execution_count": 18,
   "metadata": {},
   "outputs": [],
   "source": [
    "def UsersNotRecommend(año: int ):\n",
    "    # Se filtran los juegos No remomendados \n",
    "    df_filtred_rec_sent_year= df_reviews[(df_reviews['recommend']== False) & (df_reviews['sentiment_analysis']== 0) & (df_reviews['year'] == año)]\n",
    "    # Se agupan los reviews por juego y se cuentan\n",
    "    df_grupo_xgames= df_filtred_rec_sent_year.groupby('game_id', as_index=False).size().sort_values(by='size', ascending=False)\n",
    "    # se crea un df temporal con los valores unicos de juegos para hacer el join con reviews\n",
    "    df_games_sin_duplicados = df_games.drop_duplicates(subset=['game_id'])  \n",
    "    # Hace una union(join) de los reviews filtrados con los juegos\n",
    "    df_union_con_reviews= pd.merge(df_grupo_xgames, df_games_sin_duplicados, on='game_id', how= 'inner')\n",
    "    # Se toman los 3 primeros ligares de los juegos con mas review negativos segun el filtro aplicado\n",
    "    result= {'Puesto {}'.format(pos +1): game for pos, game in zip(range(3),df_union_con_reviews['game_name'].iloc[:3])}\n",
    "    return result"
   ]
  },
  {
   "cell_type": "code",
   "execution_count": 19,
   "metadata": {},
   "outputs": [
    {
     "data": {
      "text/plain": [
       "{'Puesto 1': 'Team Fortress 2',\n",
       " 'Puesto 2': 'PAYDAY™ The Heist',\n",
       " 'Puesto 3': \"The Kings' Crusade\"}"
      ]
     },
     "execution_count": 19,
     "metadata": {},
     "output_type": "execute_result"
    }
   ],
   "source": [
    "UsersNotRecommend(2012)"
   ]
  },
  {
   "cell_type": "code",
   "execution_count": 20,
   "metadata": {},
   "outputs": [],
   "source": [
    "def sentiment_analysis(año: int):\n",
    "    # se crea un df temporal con los valores unicos de juegos para hacer el join con reviews\n",
    "    df_games_sin_duplicados = df_games.drop_duplicates(subset=['game_id'])\n",
    "    # Se filtran los juegos por el año de lanzamiento del parametro de entrada\n",
    "    df_games_sin_duplicados = df_games_sin_duplicados[df_games_sin_duplicados['release_year'] == año]\n",
    "    # Hace una union(join) de los juegos resutrados del filtro con los reviews\n",
    "    df_union_games_rev = pd.merge(df_games_sin_duplicados, df_reviews, on='game_id', how= 'inner')\n",
    "    # Se agrupan por analisis de sentimiento y se cuentan\n",
    "    df_grupo_xSententiment= df_union_games_rev.groupby('sentiment_analysis', as_index=False).size().sort_values(by='sentiment_analysis', ascending=True)\n",
    "    # Se formatean los datos para el resultado y se retornan\n",
    "    result= {'Negative': df_grupo_xSententiment.iloc[0,1], 'Neutral': df_grupo_xSententiment.iloc[1,1], 'Positive': df_grupo_xSententiment.iloc[2,1]}\n",
    "    return result"
   ]
  },
  {
   "cell_type": "code",
   "execution_count": 21,
   "metadata": {},
   "outputs": [
    {
     "data": {
      "text/plain": [
       "{'Negative': 1249, 'Neutral': 3066, 'Positive': 4740}"
      ]
     },
     "execution_count": 21,
     "metadata": {},
     "output_type": "execute_result"
    }
   ],
   "source": [
    "sentiment_analysis(2012)"
   ]
  },
  {
   "cell_type": "markdown",
   "metadata": {},
   "source": [
    "#########################################################################################################"
   ]
  },
  {
   "cell_type": "markdown",
   "metadata": {},
   "source": [
    "- **Funciones para generar un dataset para algunas funciones del main.py**"
   ]
  },
  {
   "cell_type": "code",
   "execution_count": 131,
   "metadata": {},
   "outputs": [],
   "source": [
    "df_union_games_items = pd.merge(df_games, df_items, on='game_name', how= 'inner')"
   ]
  },
  {
   "cell_type": "code",
   "execution_count": 124,
   "metadata": {},
   "outputs": [
    {
     "data": {
      "text/html": [
       "<div>\n",
       "<style scoped>\n",
       "    .dataframe tbody tr th:only-of-type {\n",
       "        vertical-align: middle;\n",
       "    }\n",
       "\n",
       "    .dataframe tbody tr th {\n",
       "        vertical-align: top;\n",
       "    }\n",
       "\n",
       "    .dataframe thead th {\n",
       "        text-align: right;\n",
       "    }\n",
       "</style>\n",
       "<table border=\"1\" class=\"dataframe\">\n",
       "  <thead>\n",
       "    <tr style=\"text-align: right;\">\n",
       "      <th></th>\n",
       "      <th>genres</th>\n",
       "      <th>playtime_forever</th>\n",
       "    </tr>\n",
       "  </thead>\n",
       "  <tbody>\n",
       "    <tr>\n",
       "      <th>0</th>\n",
       "      <td>Action</td>\n",
       "      <td>2716773928</td>\n",
       "    </tr>\n",
       "    <tr>\n",
       "      <th>9</th>\n",
       "      <td>Indie</td>\n",
       "      <td>1377191056</td>\n",
       "    </tr>\n",
       "    <tr>\n",
       "      <th>12</th>\n",
       "      <td>RPG</td>\n",
       "      <td>932702456</td>\n",
       "    </tr>\n",
       "    <tr>\n",
       "      <th>14</th>\n",
       "      <td>Simulation</td>\n",
       "      <td>818873582</td>\n",
       "    </tr>\n",
       "    <tr>\n",
       "      <th>1</th>\n",
       "      <td>Adventure</td>\n",
       "      <td>761908258</td>\n",
       "    </tr>\n",
       "    <tr>\n",
       "      <th>8</th>\n",
       "      <td>Free to Play</td>\n",
       "      <td>550239271</td>\n",
       "    </tr>\n",
       "    <tr>\n",
       "      <th>17</th>\n",
       "      <td>Strategy</td>\n",
       "      <td>444982183</td>\n",
       "    </tr>\n",
       "    <tr>\n",
       "      <th>10</th>\n",
       "      <td>Massively Multiplayer</td>\n",
       "      <td>405976247</td>\n",
       "    </tr>\n",
       "    <tr>\n",
       "      <th>4</th>\n",
       "      <td>Casual</td>\n",
       "      <td>227660073</td>\n",
       "    </tr>\n",
       "    <tr>\n",
       "      <th>6</th>\n",
       "      <td>Early Access</td>\n",
       "      <td>149492432</td>\n",
       "    </tr>\n",
       "    <tr>\n",
       "      <th>16</th>\n",
       "      <td>Sports</td>\n",
       "      <td>23183876</td>\n",
       "    </tr>\n",
       "    <tr>\n",
       "      <th>13</th>\n",
       "      <td>Racing</td>\n",
       "      <td>19301348</td>\n",
       "    </tr>\n",
       "    <tr>\n",
       "      <th>18</th>\n",
       "      <td>Utilities</td>\n",
       "      <td>3944172</td>\n",
       "    </tr>\n",
       "    <tr>\n",
       "      <th>5</th>\n",
       "      <td>Design &amp;amp; Illustration</td>\n",
       "      <td>2632953</td>\n",
       "    </tr>\n",
       "    <tr>\n",
       "      <th>20</th>\n",
       "      <td>Web Publishing</td>\n",
       "      <td>2532711</td>\n",
       "    </tr>\n",
       "    <tr>\n",
       "      <th>19</th>\n",
       "      <td>Video Production</td>\n",
       "      <td>828394</td>\n",
       "    </tr>\n",
       "    <tr>\n",
       "      <th>2</th>\n",
       "      <td>Animation &amp;amp; Modeling</td>\n",
       "      <td>590310</td>\n",
       "    </tr>\n",
       "    <tr>\n",
       "      <th>3</th>\n",
       "      <td>Audio Production</td>\n",
       "      <td>487589</td>\n",
       "    </tr>\n",
       "    <tr>\n",
       "      <th>15</th>\n",
       "      <td>Software Training</td>\n",
       "      <td>454190</td>\n",
       "    </tr>\n",
       "    <tr>\n",
       "      <th>7</th>\n",
       "      <td>Education</td>\n",
       "      <td>187443</td>\n",
       "    </tr>\n",
       "    <tr>\n",
       "      <th>11</th>\n",
       "      <td>Photo Editing</td>\n",
       "      <td>58501</td>\n",
       "    </tr>\n",
       "  </tbody>\n",
       "</table>\n",
       "</div>"
      ],
      "text/plain": [
       "                       genres  playtime_forever\n",
       "0                      Action        2716773928\n",
       "9                       Indie        1377191056\n",
       "12                        RPG         932702456\n",
       "14                 Simulation         818873582\n",
       "1                   Adventure         761908258\n",
       "8                Free to Play         550239271\n",
       "17                   Strategy         444982183\n",
       "10      Massively Multiplayer         405976247\n",
       "4                      Casual         227660073\n",
       "6                Early Access         149492432\n",
       "16                     Sports          23183876\n",
       "13                     Racing          19301348\n",
       "18                  Utilities           3944172\n",
       "5   Design &amp; Illustration           2632953\n",
       "20             Web Publishing           2532711\n",
       "19           Video Production            828394\n",
       "2    Animation &amp; Modeling            590310\n",
       "3            Audio Production            487589\n",
       "15          Software Training            454190\n",
       "7                   Education            187443\n",
       "11              Photo Editing             58501"
      ]
     },
     "execution_count": 124,
     "metadata": {},
     "output_type": "execute_result"
    }
   ],
   "source": [
    "\"\"\" \n",
    "Se hace un conteo de horas jugadas por genero y se puede observar que los generos mas comunes estan entre el item1 hasta el 12\n",
    "Por lo tanto se hace un proceso para fitrar por estos generos el dataframe donde se unieron los juegos y los items (df_union_games_items)\n",
    "con la finalidad de aligerar un poco este dataframe usado para las primeras 2 funciones\n",
    "\"\"\"\n",
    "df_horas_generos= df_union_games_items.groupby(by=['genres'], as_index=False)['playtime_forever'].sum().sort_values(by='playtime_forever', ascending=False)\n",
    "df_horas_generos"
   ]
  },
  {
   "cell_type": "code",
   "execution_count": 125,
   "metadata": {},
   "outputs": [],
   "source": [
    "#Se toman las 12 generos mas jugados y se guardan en una lista\n",
    "lista_generos = list(df_horas_generos.values[:12,0])            \n",
    "#Se filtran por los generos que se encuentran en la lista \n",
    "df_union_games_items = df_union_games_items.loc[df_union_games_items['genres'].isin(lista_generos)]      "
   ]
  },
  {
   "cell_type": "code",
   "execution_count": 127,
   "metadata": {},
   "outputs": [],
   "source": [
    "def Generar_df_funcion1():\n",
    "    # Se hace una union (join) de juegos con items\n",
    "    #df_union_games_items = pd.merge(df_games, df_items, on='game_name', how= 'inner')\n",
    "    # se crea un dataframe agrupado por genero y año y se sumas las horas jugadas\n",
    "    df_grupo_por_genero_y_año = df_union_games_items.groupby(by=['genres','release_year'], as_index=False)['playtime_forever'].sum().sort_values(by='playtime_forever', ascending=False)\n",
    "    df_grupo_por_genero_y_año['genres']= df_grupo_por_genero_y_año['genres'].str.lower()\n",
    "    # Se exporta el datagrame a un archivo llamado funcion1.csv desde donde se cargaran el dataset para la funcion 1 de la api\n",
    "    df_grupo_por_genero_y_año.to_csv('DataSet_tranformados/funcion1.csv', index=False)    \n",
    "    return"
   ]
  },
  {
   "cell_type": "code",
   "execution_count": 128,
   "metadata": {},
   "outputs": [],
   "source": [
    "Generar_df_funcion1()"
   ]
  },
  {
   "cell_type": "code",
   "execution_count": 129,
   "metadata": {},
   "outputs": [],
   "source": [
    "def Generar_df_funcion2():\n",
    "    # Se hace una union (join) de juegos con items\n",
    "    #df_union_game_items = pd.merge(df_games, df_items, on='game_id', how= 'inner')\n",
    "    # se crea un dataframe agrupado por genero, usuario y año y se sumas las horas jugadas\n",
    "    df_grupo_por_gen_us_year = df_union_games_items.groupby(by=['genres','user_id','release_year'], as_index=False)['playtime_forever'].sum()\n",
    "    df_grupo_por_gen_us_year['genres']= df_grupo_por_gen_us_year['genres'].str.lower()\n",
    "    # Se exporta el datagrame a un archivo en formato parquet llamado funcion2.parquet desde donde se cargaran el dataset para la funcion 2 de la api    \n",
    "    df_grupo_por_gen_us_year.to_parquet('DataSet_tranformados/funcion2.parquet', index=False)\n",
    "    return"
   ]
  },
  {
   "cell_type": "code",
   "execution_count": 130,
   "metadata": {},
   "outputs": [],
   "source": [
    "Generar_df_funcion2()"
   ]
  },
  {
   "cell_type": "code",
   "execution_count": 2,
   "metadata": {},
   "outputs": [],
   "source": [
    "mi_arreglo = np.load('DataSet_tranformados/modelo.npy')"
   ]
  }
 ],
 "metadata": {
  "kernelspec": {
   "display_name": "Python 3",
   "language": "python",
   "name": "python3"
  },
  "language_info": {
   "codemirror_mode": {
    "name": "ipython",
    "version": 3
   },
   "file_extension": ".py",
   "mimetype": "text/x-python",
   "name": "python",
   "nbconvert_exporter": "python",
   "pygments_lexer": "ipython3",
   "version": "3.11.1"
  }
 },
 "nbformat": 4,
 "nbformat_minor": 2
}
